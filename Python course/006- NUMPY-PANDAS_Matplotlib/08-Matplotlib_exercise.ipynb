{
 "cells": [
  {
   "cell_type": "markdown",
   "id": "abd91814-2add-4b6a-ad8b-ea257f138ef4",
   "metadata": {},
   "source": [
    "## ========================================================================\n",
    "## Matplotlib Exercise \n",
    "### Mahdi Shafiee Kamalabad\n",
    "## ========================================================================"
   ]
  },
  {
   "cell_type": "markdown",
   "id": "8483d660",
   "metadata": {},
   "source": [
    "#### Write a Python program to draw a line with suitable label in the x axis, y axis and a title.\n"
   ]
  },
  {
   "cell_type": "code",
   "execution_count": null,
   "id": "ca522500",
   "metadata": {},
   "outputs": [],
   "source": [
    "import matplotlib.pyplot as plt\n",
    "X = range(1, 50)  # x axis\n",
    "Y = [value * 3 for value in X] # this is list comprehension:  [output, for loop, condition(optional)]\n",
    "Y\n",
    "# put your code here\n"
   ]
  },
  {
   "cell_type": "markdown",
   "id": "1a78fac5",
   "metadata": {},
   "source": [
    "#### Write a Python program to draw a line using given axis values with suitable label in the x axis , y axis and a title.\n"
   ]
  },
  {
   "cell_type": "code",
   "execution_count": null,
   "id": "e569cf31",
   "metadata": {},
   "outputs": [],
   "source": [
    "import matplotlib.pyplot as plt\n",
    "# x axis values\n",
    "x = [1,2,3]\n",
    "# y axis values\n",
    "y = [2,4,1]\n",
    "\n",
    "# put your code here\n"
   ]
  },
  {
   "cell_type": "markdown",
   "id": "fa846278",
   "metadata": {},
   "source": [
    "#### Write a Python program to draw line charts of the financial data of Alphabet Inc. between October 3, 2016 to October 7, 2016.\n",
    "##### Import the sample Financial data (fdata.csv) look at the \"data\" folder in \" NUMPY-PANDAS_MATPLOTLIB\"\n",
    "Hint: use `pd.read_csv()`"
   ]
  },
  {
   "cell_type": "code",
   "execution_count": null,
   "id": "c7e6926d",
   "metadata": {},
   "outputs": [],
   "source": [
    "import matplotlib.pyplot as plt\n",
    "import pandas as pd\n",
    "\n",
    "# put your code here\n"
   ]
  },
  {
   "cell_type": "markdown",
   "id": "0f93345f",
   "metadata": {},
   "source": [
    "#### Write a Python program to plot two or more lines on same plot with suitable legends of each line.\n",
    "``line 1 points\n",
    "x1 = [10,20,30]\n",
    "y1 = [20,40,10]``  \n",
    "\n",
    "``line 2 points\n",
    "x2 = [10,20,30]\n",
    "y2 = [40,10,30]``"
   ]
  },
  {
   "cell_type": "code",
   "execution_count": null,
   "id": "0acee65e",
   "metadata": {},
   "outputs": [],
   "source": [
    "import matplotlib.pyplot as plt\n",
    "\n",
    "# put your code here\n"
   ]
  },
  {
   "cell_type": "markdown",
   "id": "4d910a09",
   "metadata": {},
   "source": [
    "#### Write a Python program to plot two or more lines with different styles. (given the line in previous exercise)."
   ]
  },
  {
   "cell_type": "code",
   "execution_count": null,
   "id": "5cd1735d",
   "metadata": {},
   "outputs": [],
   "source": [
    "import matplotlib.pyplot as plt\n",
    "\n",
    "# put your code here\n"
   ]
  },
  {
   "cell_type": "markdown",
   "id": "21d9ffa6",
   "metadata": {},
   "source": [
    "#### Write a Python program to plot several lines with different format styles in one command using arrays.\n",
    "Hint: use plt.plot and the power operator (**) for variables"
   ]
  },
  {
   "cell_type": "code",
   "execution_count": null,
   "id": "a59c3c4c",
   "metadata": {
    "tags": []
   },
   "outputs": [],
   "source": [
    "import numpy as np\n",
    "import matplotlib.pyplot as plt\n",
    "\n",
    "# put your code here\n"
   ]
  },
  {
   "cell_type": "markdown",
   "id": "594827a1",
   "metadata": {
    "tags": []
   },
   "source": [
    "#### Write a Python program to create multiple plots."
   ]
  },
  {
   "cell_type": "code",
   "execution_count": null,
   "id": "e690fe74",
   "metadata": {},
   "outputs": [],
   "source": [
    "import matplotlib.pyplot as plt\n",
    "\n",
    "# put your code here\n"
   ]
  },
  {
   "cell_type": "markdown",
   "id": "14eafd43-4898-4404-8f37-c2429f82e52d",
   "metadata": {},
   "source": [
    "#### Create a single figure with two plots."
   ]
  },
  {
   "cell_type": "code",
   "execution_count": null,
   "id": "ba78930f-1f9f-46b0-8ef3-8caa40425f76",
   "metadata": {},
   "outputs": [],
   "source": [
    "import numpy as np\n",
    "import matplotlib.pyplot as plt\n",
    "\n",
    "# you can use these variables to create the plot\n",
    "x = np.linspace(-np.pi,np.pi,101)\n",
    "y = np.sin(x)+np.sin(3*x)/3.0\n",
    "\n",
    "# put your code here\n"
   ]
  },
  {
   "cell_type": "markdown",
   "id": "285f4dde",
   "metadata": {},
   "source": [
    "# Extra exercises\n",
    "\n",
    "#### Write a Python programming to display a bar chart of the popularity of programming Languages.\n",
    "\n",
    "Hint:\n",
    "\n",
    "`x = ['Java', 'Python', 'PHP', 'JavaScript', 'C#', 'C++']`\n",
    "\n",
    "`popularity = [22.2, 17.6, 8.8, 8, 7.7, 6.7]`"
   ]
  },
  {
   "cell_type": "code",
   "execution_count": null,
   "id": "8145fe8f",
   "metadata": {},
   "outputs": [],
   "source": [
    "# put your code here\n"
   ]
  },
  {
   "cell_type": "markdown",
   "id": "c16bb11c",
   "metadata": {},
   "source": [
    "#### Given the previous exercise, write a Python programming to display a horizontal bar chart of the popularity of programming languages.\n"
   ]
  },
  {
   "cell_type": "code",
   "execution_count": null,
   "id": "1ad31cc0",
   "metadata": {},
   "outputs": [],
   "source": [
    "# put your code here\n"
   ]
  },
  {
   "cell_type": "markdown",
   "id": "05079272",
   "metadata": {},
   "source": [
    "#### Write a Python programming to display a bar chart of the popularity of programming Languages. Use different color for each bar."
   ]
  },
  {
   "cell_type": "code",
   "execution_count": null,
   "id": "3c58ebd8",
   "metadata": {},
   "outputs": [],
   "source": [
    "# put your code here\n"
   ]
  },
  {
   "cell_type": "markdown",
   "id": "0926556e",
   "metadata": {},
   "source": [
    "#### Write a Python programming to create a pie chart of the popularity of programming Languages."
   ]
  },
  {
   "cell_type": "code",
   "execution_count": null,
   "id": "515d559e",
   "metadata": {},
   "outputs": [],
   "source": [
    "# put your code here\n"
   ]
  },
  {
   "cell_type": "markdown",
   "id": "69280673",
   "metadata": {},
   "source": [
    "#### Write a Python program to draw a scatter graph taking a random distribution in X and Y and plotted against each other.\n",
    "\n",
    "Hint:\n",
    "\n",
    "`X = randn(200)`\n",
    "\n",
    "`Y = randn(200)`"
   ]
  },
  {
   "cell_type": "code",
   "execution_count": null,
   "id": "9815ce0f",
   "metadata": {},
   "outputs": [],
   "source": [
    "import matplotlib.pyplot as plt\n",
    "from pylab import randn\n",
    "\n",
    "# put your code here\n"
   ]
  },
  {
   "cell_type": "markdown",
   "id": "1899ce92-04c0-4bde-ba3b-94e06f9fc0f0",
   "metadata": {},
   "source": [
    "#### Write a Python program to draw two histograms of two random variables from Laplace distribution."
   ]
  },
  {
   "cell_type": "code",
   "execution_count": null,
   "id": "9828fb93-cf8e-40ae-aaf3-fe9c23979f80",
   "metadata": {},
   "outputs": [],
   "source": [
    "import numpy as np\n",
    "import matplotlib.pyplot as plt\n",
    "\n",
    "# Laplce random variables\n",
    "d1 = np.random.laplace(loc=15, scale=3, size=500) # loc defines the location of the peak of dist.\n",
    "d2 = np.random.laplace(loc=10, scale=3, size=500)\n",
    "\n",
    "# put your code here\n"
   ]
  },
  {
   "cell_type": "markdown",
   "id": "697b4b21",
   "metadata": {},
   "source": [
    "#### Write a Python program to draw a scatter plot using random distributions to generate balls of different sizes. *A bit chalenging (I recommend you to google it)!*\n",
    "\n",
    "Hint: you can use the `triangular()` method which returns a random floating number between the two specified numbers (both included), but you can also specify a third parameter, the mode parameter.\n",
    "\n",
    "random.triangular(low, high, mode);\n",
    "\n",
    "low:\tOptional. A number specifying the lowest possible outcome, default 0;\n",
    "\n",
    "high:\tOptional. A number specifying the highest possible outcome, default 1;\n",
    "\n",
    "mode:\tOptional. A number used to weigh the result in any direction, default the midpoint between the low and high values;\n",
    "\n",
    "\n",
    "You can also use `gauss()` method which is an inbuilt method of the random module. It is used to return a random floating point number with gaussian distribution.  \n",
    "\n",
    "random.gauss(mu, sigma)\n",
    "\n",
    "- mu : mean  \n",
    "- sigma : standard deviation\n"
   ]
  },
  {
   "cell_type": "code",
   "execution_count": null,
   "id": "500e3aff",
   "metadata": {},
   "outputs": [],
   "source": [
    "import math\n",
    "import random\n",
    "import matplotlib.pyplot as plt\n",
    "\n",
    "# put your code here\n"
   ]
  }
 ],
 "metadata": {
  "kernelspec": {
   "display_name": "Python 3",
   "language": "python",
   "name": "python3"
  },
  "language_info": {
   "codemirror_mode": {
    "name": "ipython",
    "version": 3
   },
   "file_extension": ".py",
   "mimetype": "text/x-python",
   "name": "python",
   "nbconvert_exporter": "python",
   "pygments_lexer": "ipython3",
   "version": "3.9.6 (default, Sep 26 2022, 11:37:49) \n[Clang 14.0.0 (clang-1400.0.29.202)]"
  },
  "vscode": {
   "interpreter": {
    "hash": "31f2aee4e71d21fbe5cf8b01ff0e069b9275f58929596ceb00d14d90e3e16cd6"
   }
  }
 },
 "nbformat": 4,
 "nbformat_minor": 5
}
