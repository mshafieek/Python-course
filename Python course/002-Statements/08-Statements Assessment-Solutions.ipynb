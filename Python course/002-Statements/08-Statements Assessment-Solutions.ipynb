{
 "cells": [
  {
   "cell_type": "markdown",
   "metadata": {
    "tags": []
   },
   "source": [
    "## ========================================================================\n",
    "## Statements Assessment Solutions\n",
    "### Mahdi Shafiee Kamalabad\n",
    "## ========================================================================"
   ]
  },
  {
   "cell_type": "markdown",
   "metadata": {},
   "source": [
    "#### Write a program to check whether a person is eligible for voting or not. (accept age from user)\n",
    "Hint: use `int` and `input`: int(input(\"...\"))\n",
    "\n",
    "A voting age is a minimum age established by law that a person must attain before they become eligible to vote in a public election: e.g. 18."
   ]
  },
  {
   "cell_type": "code",
   "execution_count": null,
   "metadata": {},
   "outputs": [],
   "source": [
    "age=int(input(\"Enter your age\"))\n",
    "if age >=18:\n",
    "   print(\"Eligible for voting\")\n",
    "else:\n",
    "   print(\"not eligible for voting\")"
   ]
  },
  {
   "cell_type": "markdown",
   "metadata": {},
   "source": [
    "#### Write a program to check whether a number is divisible by 7 or not.\n",
    "Hint: `%` can be used for this."
   ]
  },
  {
   "cell_type": "code",
   "execution_count": null,
   "metadata": {},
   "outputs": [],
   "source": [
    "num=int(input(\"Enter your age\"))\n",
    "if num%7==0:\n",
    "   print(\"Number is divisible\")\n",
    "else:\n",
    "   print(\"Number is not divisible\")"
   ]
  },
  {
   "cell_type": "markdown",
   "metadata": {},
   "source": [
    "#### Make a program that asks the user to put a number between 1 and 10. If the number is out of range the program should display \"invalid number\".\n",
    "Hint: use `int` and `input`: int(input(\"...\"))"
   ]
  },
  {
   "cell_type": "code",
   "execution_count": null,
   "metadata": {},
   "outputs": [],
   "source": [
    "num = int(input(\"Enter a number between 1 and 10\"))\n",
    "if num < 1 or num > 10:\n",
    "   print(\"invalid number\")"
   ]
  },
  {
   "cell_type": "markdown",
   "metadata": {},
   "source": [
    "#### Write an if statement that asks for the user's name via input() function. If the name is \"Bond\" make it print \"Welcome on board 007.\" Otherwise make it print \"Good morning NAME\". (Replace Name with user's name)"
   ]
  },
  {
   "cell_type": "code",
   "execution_count": null,
   "metadata": {
    "tags": []
   },
   "outputs": [],
   "source": [
    "name = input(\"Please enter your name.\")\n",
    "if name == \"Bond\":\n",
    "    print(\"Welcome on board 007.\")\n",
    "else:\n",
    "    print(\"Good morning \" + name)"
   ]
  },
  {
   "cell_type": "markdown",
   "metadata": {},
   "source": [
    "#### Can you rewrite the code below without nesting? \n",
    "Hint: use the `if-elif-else` construct."
   ]
  },
  {
   "cell_type": "code",
   "execution_count": null,
   "metadata": {},
   "outputs": [],
   "source": [
    "x = float(input(\"Enter a number: \"))\n",
    "if x > 0:\n",
    "    print(\"Positive number\")\n",
    "elif x == 0:\n",
    "    print(\"Zero\")\n",
    "else:\n",
    "    print(\"Negative number\")"
   ]
  },
  {
   "cell_type": "markdown",
   "metadata": {},
   "source": [
    "#### Do the same thing as previous exercise, this time making sure if the name is \"bond\" with lower case b it still prints \"Welcome on board 007.\"\n",
    "If you construct your logical statement with `name.lower()` it will work either way."
   ]
  },
  {
   "cell_type": "code",
   "execution_count": null,
   "metadata": {},
   "outputs": [],
   "source": [
    "name = input(\"Please enter your name.\")\n",
    "if name.lower() == \"bond\":\n",
    "    print(\"Welcome on board 007\")\n",
    "else:\n",
    "    print(\"Good morning \" + name)"
   ]
  },
  {
   "cell_type": "markdown",
   "metadata": {},
   "source": [
    "#### Write a for loop so that every item in the list is printed."
   ]
  },
  {
   "cell_type": "code",
   "execution_count": null,
   "metadata": {},
   "outputs": [],
   "source": [
    "lst=[\"koala\", \"cat\", \"fox\", \"panda\", \"chipmunk\", \"sloth\", \"penguin\", \"dolphin\"]\n",
    "\n",
    "for i in lst:\n",
    "    print(i)"
   ]
  },
  {
   "cell_type": "markdown",
   "metadata": {},
   "source": [
    "#### Write a for loop which print \"Hello!, \" plus each name in the list. i.e.: \"Hello!, Sam\"\n",
    "Hint: you can concatenate the strings with `+`"
   ]
  },
  {
   "cell_type": "code",
   "execution_count": null,
   "metadata": {},
   "outputs": [],
   "source": [
    " lst=[\"Sam\", \"Lisa\", \"Micha\", \"Dave\", \"Wyatt\", \"Emma\", \"Sage\"]\n",
    "for i in lst:\n",
    "    print(\"Hello!, \" + i)"
   ]
  },
  {
   "cell_type": "markdown",
   "metadata": {},
   "source": [
    "#### Using a for loop and .append() method append each item with a Dr. prefix to the lst."
   ]
  },
  {
   "cell_type": "code",
   "execution_count": null,
   "metadata": {},
   "outputs": [],
   "source": [
    "lst1=[\"Phil\", \"Oz\", \"Seuss\", \"Dre\"]\n",
    "lst2=[]\n",
    "\n",
    "for i in lst1:\n",
    "    lst2.append(\"Dr. \" + i)\n",
    "\n",
    "\n",
    "print(lst2)"
   ]
  },
  {
   "cell_type": "markdown",
   "metadata": {},
   "source": [
    "_____"
   ]
  },
  {
   "cell_type": "markdown",
   "metadata": {},
   "source": [
    "**Use <code>for</code>, .split(), and <code>if</code> to create a Statement that will print out words that start with 's':**  \n",
    "Hint: follow the steps  \n",
    "(1) split 'st'  \n",
    "(2) loop through the list using `for`  \n",
    "(3) check if the word starts with 's' (e.g., the first element == 's')"
   ]
  },
  {
   "cell_type": "code",
   "execution_count": null,
   "metadata": {},
   "outputs": [],
   "source": [
    "st = 'Print only the words that start with s in this sentence'"
   ]
  },
  {
   "cell_type": "code",
   "execution_count": null,
   "metadata": {},
   "outputs": [],
   "source": [
    "for word in st.split():\n",
    "    if word[0] == 's':\n",
    "        print(word)"
   ]
  },
  {
   "cell_type": "markdown",
   "metadata": {},
   "source": [
    "______\n",
    "**Use range() to print all the even numbers from 0 to 10.**"
   ]
  },
  {
   "cell_type": "code",
   "execution_count": null,
   "metadata": {},
   "outputs": [],
   "source": [
    "list(range(0,11,2))"
   ]
  },
  {
   "cell_type": "markdown",
   "metadata": {},
   "source": [
    "___\n",
    "**Use List comprehension to create a list of all numbers between 1 and 50 that are divisible by 3.**  \n",
    "Hint: use `%` operator"
   ]
  },
  {
   "cell_type": "code",
   "execution_count": null,
   "metadata": {},
   "outputs": [],
   "source": [
    "[x for x in range(1,51) if x%3 == 0]"
   ]
  },
  {
   "cell_type": "markdown",
   "metadata": {},
   "source": [
    "_____\n",
    "**Go through the string below and if the length of a word is even print \"even!\"**  \n",
    "Hint: use split() and len()"
   ]
  },
  {
   "cell_type": "code",
   "execution_count": null,
   "metadata": {},
   "outputs": [],
   "source": [
    "st = 'Print every word in this sentence that has an even number of letters'"
   ]
  },
  {
   "cell_type": "code",
   "execution_count": null,
   "metadata": {},
   "outputs": [],
   "source": [
    "for word in st.split():\n",
    "    if len(word)%2 == 0:\n",
    "        print(word+\" <-- has an even length!\")"
   ]
  },
  {
   "cell_type": "markdown",
   "metadata": {},
   "source": [
    "#### The tea starts at 115 degrees Fahrenheit. You want it at 112 degrees. A chip of ice turns out to lower the temperature one degree each time. You test the temperature each time, and also print out the temperature before reducing the temperature. In Python how you could write and run the correspoding code\n",
    "Hint: use `while` loop"
   ]
  },
  {
   "cell_type": "code",
   "execution_count": null,
   "metadata": {},
   "outputs": [],
   "source": [
    "temperature = 115  \n",
    "while temperature > 112: # first while loop code\n",
    "    print(temperature)\n",
    "    temperature = temperature - 1\n",
    "\n",
    "print('The tea is cool enough.')"
   ]
  },
  {
   "cell_type": "markdown",
   "metadata": {},
   "source": [
    "#### we can write a while loop which is going to run until the user enters a value of 10 or higher."
   ]
  },
  {
   "cell_type": "code",
   "execution_count": null,
   "metadata": {},
   "outputs": [],
   "source": [
    "user_number = input(\"Please enter a number: \")\n",
    "\n",
    "while int(user_number) < 10:\n",
    "    print(\"Your number was less than 10.\")\n",
    "    user_number = input(\"Please select another number: \")\n",
    "\n",
    "print(\"Your number was at least 10.\")"
   ]
  },
  {
   "cell_type": "markdown",
   "metadata": {},
   "source": [
    "____\n",
    "#### Write a program that prints the integers from 1 to 100. But for multiples of three print \"Fizz\" instead of the number, and for the multiples of five print \"Buzz\". For numbers which are multiples of both three and five print \"FizzBuzz\". \n",
    "Hint: follow the steps.  \n",
    "(1) set a `for` loop from 1 to 100  \n",
    "(2) construct `if-elif-else` condition statements using `%` "
   ]
  },
  {
   "cell_type": "code",
   "execution_count": null,
   "metadata": {},
   "outputs": [],
   "source": [
    "for num in range(1,101):\n",
    "    if num % 3 == 0 and num % 5 == 0:\n",
    "        print(\"FizzBuzz\")\n",
    "    elif num % 3 == 0:\n",
    "        print(\"Fizz\")\n",
    "    elif num % 5 == 0:\n",
    "        print(\"Buzz\")\n",
    "    else:\n",
    "        print(num)"
   ]
  },
  {
   "cell_type": "markdown",
   "metadata": {},
   "source": [
    "#### Write a program to display only those numbers from a list that satisfy the following conditions:\n",
    "\n",
    "* The number must be divisible by five\n",
    "* If the number is greater than 150, then skip it and move to the next number\n",
    "* If the number is greater than 500, then stop the loop\n",
    "\n",
    "Hint: use `break` and `continue`"
   ]
  },
  {
   "cell_type": "code",
   "execution_count": null,
   "metadata": {},
   "outputs": [],
   "source": [
    "numbers = [12, 75, 150, 180, 145, 525, 50]\n",
    "# iterate each item of a list\n",
    "for item in numbers:\n",
    "    if item > 500:\n",
    "        break\n",
    "    elif item > 150:\n",
    "        continue\n",
    "    # check if number is divisible by 5\n",
    "    elif item % 5 == 0:\n",
    "        print(item)"
   ]
  },
  {
   "cell_type": "markdown",
   "metadata": {},
   "source": [
    "#### Write a program to accept a number from a user and calculate the sum of all numbers from 1 to a given number.\n",
    "For example, if the user entered 10 the output should be 55 (1+2+3+4+5+6+7+8+9+10).  \n",
    "Hint: set a `for` loop from 1 to the user's input (caution: if you use range(), the last element is always excluded) and compute the total sum of the range of numbers by adding an element each loop."
   ]
  },
  {
   "cell_type": "code",
   "execution_count": null,
   "metadata": {},
   "outputs": [],
   "source": [
    "# s: store sum of all numbers\n",
    "s = 0\n",
    "n = int(input(\"Enter number \"))\n",
    "\n",
    "# run loop n times\n",
    "# stop: n+1 (because range never include stop number in result)\n",
    "for i in range(1, n + 1, 1):\n",
    "    # add current number to sum variable\n",
    "    s += i\n",
    "print(\"\\n\")\n",
    "print(\"Sum is: \", s)"
   ]
  },
  {
   "cell_type": "markdown",
   "metadata": {},
   "source": [
    "____\n",
    "#### Use a List Comprehension to create a list of the first letters of every word in the string below:\n",
    "Hint: use split()"
   ]
  },
  {
   "cell_type": "code",
   "execution_count": null,
   "metadata": {},
   "outputs": [],
   "source": [
    "st = 'Create a list of the first letters of every word in this string'"
   ]
  },
  {
   "cell_type": "code",
   "execution_count": null,
   "metadata": {},
   "outputs": [],
   "source": [
    "[word[0] for word in st.split()]"
   ]
  },
  {
   "cell_type": "markdown",
   "metadata": {},
   "source": [
    "#### Write a program to print the following number pattern using a loop.\n",
    "\n",
    "1 \n",
    "\n",
    "1 2 \n",
    "\n",
    "1 2 3\n",
    "\n",
    "1 2 3 4 \n",
    "\n",
    "1 2 3 4 5  \n",
    "\n",
    "Hint: use a *nested loop* (a loop inside a loop).  \n",
    "(1) outer loop iterates for the number of rows (e.g., above example the number of rows = 5)  \n",
    "(2) inner loop iterates for the number of columns in each row (e.g., the first row above the number of column = 1, the second row above the number of column = 2 ...)   \n"
   ]
  },
  {
   "cell_type": "code",
   "execution_count": null,
   "metadata": {},
   "outputs": [],
   "source": [
    "print(\"Number Pattern \")\n",
    "\n",
    "# Decide the row count. (above pattern contains 5 rows)\n",
    "row = 5\n",
    "# start: 1\n",
    "# stop: row+1 (range never include stop number in result)\n",
    "# step: 1\n",
    "# run loop 5 times\n",
    "for i in range(1, row + 1, 1):\n",
    "    # Run inner loop i+1 times\n",
    "    for j in range(1, i + 1):\n",
    "        print(j, end=' ')\n",
    "    # empty line after each row\n",
    "    print(\"\")"
   ]
  },
  {
   "cell_type": "markdown",
   "metadata": {},
   "source": [
    "#### We have a collection of numbers and want to know how many unique numbers we have. Print each of them on a single line using a single print statment.\n",
    "Hint: every *set* element is unique (no duplicates) "
   ]
  },
  {
   "cell_type": "code",
   "execution_count": null,
   "metadata": {},
   "outputs": [],
   "source": [
    "number_collection = [1,2,2,3,50, 50, 60, 57, 58, 3, 37, 37]\n",
    "unique_number = set(number_collection)\n",
    "\n",
    "# print each number on a single line\n",
    "for number in unique_number:\n",
    "    print(number)"
   ]
  },
  {
   "cell_type": "markdown",
   "metadata": {},
   "source": [
    "#### Please use the **continue** statement to make sure that words that start with the letter 'r' are not printed.\n",
    "Hint: use startswith() and `continue` statement"
   ]
  },
  {
   "cell_type": "code",
   "execution_count": null,
   "metadata": {},
   "outputs": [],
   "source": [
    "ls=['Python', 'is', 'really', 'nice', 'right?']\n",
    "\n",
    "for word in ls:\n",
    "    if word.startswith('r'):\n",
    "        continue\n",
    "    print(word)"
   ]
  }
 ],
 "metadata": {
  "kernelspec": {
   "display_name": "Python 3 (ipykernel)",
   "language": "python",
   "name": "python3"
  },
  "language_info": {
   "codemirror_mode": {
    "name": "ipython",
    "version": 3
   },
   "file_extension": ".py",
   "mimetype": "text/x-python",
   "name": "python",
   "nbconvert_exporter": "python",
   "pygments_lexer": "ipython3",
   "version": "3.9.7"
  }
 },
 "nbformat": 4,
 "nbformat_minor": 4
}
