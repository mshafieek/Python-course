{
 "cells": [
  {
   "cell_type": "markdown",
   "id": "2ef2d6d9-7429-488c-8d27-69570d7908f2",
   "metadata": {},
   "source": [
    "## ========================================================================\n",
    "##  Matplotlib Exercise Solution\n",
    "### Mahdi Shafiee Kamalabad\n",
    "## ========================================================================"
   ]
  },
  {
   "cell_type": "markdown",
   "id": "c881562b-ddf4-4429-a532-77efd4456332",
   "metadata": {},
   "source": [
    "#### Write a Python program to draw a line with suitable label in the x axis, y axis and a title.\n"
   ]
  },
  {
   "cell_type": "code",
   "execution_count": null,
   "id": "01301cfb-eba2-42e4-beee-bc3299345f71",
   "metadata": {},
   "outputs": [],
   "source": [
    "import matplotlib.pyplot as plt\n",
    "X = range(1, 50)\n",
    "Y = [value * 3 for value in X]\n",
    "print(\"Values of X:\")\n",
    "print(*range(1,50)) \n",
    "print(\"Values of Y (thrice of X):\")\n",
    "print(Y)\n",
    "\n",
    "# Plot lines and/or markers to the Axes.\n",
    "plt.plot(X, Y)\n",
    "# Set the x axis label of the current axis.\n",
    "plt.xlabel('x - axis')\n",
    "# Set the y axis label of the current axis.\n",
    "plt.ylabel('y - axis')\n",
    "# Set a title \n",
    "plt.title('Draw a line.')\n",
    "# Display the figure.\n",
    "plt.show()\n"
   ]
  },
  {
   "cell_type": "markdown",
   "id": "3cf0e1c6-3894-423d-bee5-b4d54203f1bb",
   "metadata": {},
   "source": [
    "#### Write a Python program to draw a line using given axis values with suitable label in the x axis , y axis and a title.\n"
   ]
  },
  {
   "cell_type": "code",
   "execution_count": null,
   "id": "6ae2f448-8dcd-48fd-9c0e-bf4c3e4c3072",
   "metadata": {},
   "outputs": [],
   "source": [
    "import matplotlib.pyplot as plt\n",
    "# x axis values\n",
    "x = [1,2,3]\n",
    "# y axis values\n",
    "y = [2,4,1]\n",
    "# Plot lines and/or markers to the Axes.\n",
    "plt.plot(x, y)\n",
    "# Set the x axis label of the current axis.\n",
    "plt.xlabel('x - axis')\n",
    "# Set the y axis label of the current axis.\n",
    "plt.ylabel('y - axis')\n",
    "# Set a title \n",
    "plt.title('Sample graph!')\n",
    "# Display a figure.\n",
    "plt.show()"
   ]
  },
  {
   "cell_type": "markdown",
   "id": "8726a731-8203-4186-b05f-b87a33288e43",
   "metadata": {},
   "source": [
    "#### Write a Python program to draw line charts of the financial data of Alphabet Inc. between October 3, 2016 to October 7, 2016.\n",
    "##### Import the sample Financial data (fdata.csv) look at the \"data\" folder in \" NUMPY-PANDAS_MATPLOTLIB\""
   ]
  },
  {
   "cell_type": "code",
   "execution_count": null,
   "id": "77a078bf-9c46-44b4-8862-3ac05c078302",
   "metadata": {},
   "outputs": [],
   "source": [
    "import matplotlib.pyplot as plt\n",
    "import pandas as pd\n",
    "df = pd.read_csv('C:/Users/shafi004/Downloads/My_Python/Fnalized WC/07- NUMPY-PANDAS_Matplotlib/data/fdata.csv', sep=',', parse_dates=True, index_col=0)\n",
    "df.plot()\n",
    "plt.show()"
   ]
  },
  {
   "cell_type": "markdown",
   "id": "4a0724fc-47b8-4043-bf49-f35ee1437270",
   "metadata": {},
   "source": [
    "#### Write a Python program to plot two or more lines on same plot with suitable legends of each line.\n",
    "``line 1 points\n",
    "x1 = [10,20,30]\n",
    "y1 = [20,40,10]``  \n",
    "\n",
    "``line 2 points\n",
    "x2 = [10,20,30]\n",
    "y2 = [40,10,30]``"
   ]
  },
  {
   "cell_type": "code",
   "execution_count": null,
   "id": "42a33d51-2838-449c-9161-a9d44d4ef328",
   "metadata": {},
   "outputs": [],
   "source": [
    "import matplotlib.pyplot as plt\n",
    "# line 1 points\n",
    "x1 = [10,20,30]\n",
    "y1 = [20,40,10]\n",
    "# plotting the line 1 points \n",
    "plt.plot(x1, y1, label = \"line 1\")\n",
    "# line 2 points\n",
    "x2 = [10,20,30]\n",
    "y2 = [40,10,30]\n",
    "# plotting the line 2 points \n",
    "plt.plot(x2, y2, label = \"line 2\")\n",
    "plt.xlabel('x - axis')\n",
    "# Set the y axis label of the current axis.\n",
    "plt.ylabel('y - axis')\n",
    "# Set a title of the current axes.\n",
    "plt.title('Two or more lines on same plot with suitable legends ')\n",
    "# show a legend on the plot\n",
    "plt.legend()\n",
    "# Display a figure.\n",
    "plt.show()"
   ]
  },
  {
   "cell_type": "markdown",
   "id": "9710911f-8a12-454c-894b-184799556709",
   "metadata": {},
   "source": [
    "#### Write a Python program to plot two or more lines with different styles (given the line in previous exercise)."
   ]
  },
  {
   "cell_type": "code",
   "execution_count": null,
   "id": "c253b4c5-1a7c-4e23-8f98-62eda3c40231",
   "metadata": {},
   "outputs": [],
   "source": [
    "import matplotlib.pyplot as plt\n",
    "# line 1 points\n",
    "x1 = [10,20,30]\n",
    "y1 = [20,40,10]\n",
    "# line 2 points\n",
    "x2 = [10,20,30]\n",
    "y2 = [40,10,30]\n",
    "# Set the x axis label of the current axis.\n",
    "plt.xlabel('x - axis')\n",
    "# Set the y axis label of the current axis.\n",
    "plt.ylabel('y - axis')\n",
    "# Plot lines and/or markers to the Axes.\n",
    "plt.plot(x1,y1, color='blue', linewidth = 3,  label = 'line1-dotted',linestyle='dotted')\n",
    "plt.plot(x2,y2, color='red', linewidth = 5,  label = 'line2-dashed', linestyle='dashed')\n",
    "# Set a title \n",
    "plt.title(\"Plot with two or more lines with different styles\")\n",
    "# show a legend on the plot\n",
    "plt.legend()\n",
    "# function to show the plot\n",
    "plt.show()"
   ]
  },
  {
   "cell_type": "markdown",
   "id": "73467c37-64d3-44d1-8827-ed085fe4f5ab",
   "metadata": {},
   "source": [
    "#### Write a Python program to plot several lines with different format styles in one command using arrays."
   ]
  },
  {
   "cell_type": "code",
   "execution_count": null,
   "id": "7c97b4d9-bc99-4f96-8232-56336582c46e",
   "metadata": {},
   "outputs": [],
   "source": [
    "import numpy as np\n",
    "import matplotlib.pyplot as plt\n",
    "\n",
    "# Sampled time at 200ms intervals\n",
    "t = np.arange(0., 5., 0.2)\n",
    "\n",
    "# green dashes, blue squares and red triangles\n",
    "plt.plot(t, t, 'g--', t, t**2, 'bs', t, t**3, 'r^')\n",
    "plt.show()"
   ]
  },
  {
   "cell_type": "markdown",
   "id": "fc67a7fd-64ec-4e34-af0a-721bfd2d08ac",
   "metadata": {},
   "source": [
    "#### Write a Python program to create multiple plots."
   ]
  },
  {
   "cell_type": "code",
   "execution_count": null,
   "id": "8317e828-9b4e-49a5-aa46-bb002533bf0c",
   "metadata": {},
   "outputs": [],
   "source": [
    "import matplotlib.pyplot as plt\n",
    "fig = plt.figure()\n",
    "fig.subplots_adjust(bottom=0.020, left=0.020, top = 0.900, right=0.800)\n",
    "\n",
    "plt.subplot(2, 1, 1)\n",
    "plt.xticks(()), plt.yticks(())\n",
    "\n",
    "plt.subplot(2, 3, 4)\n",
    "plt.xticks(())\n",
    "plt.yticks(())\n",
    "\n",
    "plt.subplot(2, 3, 5)\n",
    "plt.xticks(())\n",
    "plt.yticks(())\n",
    "\n",
    "plt.subplot(2, 3, 6)\n",
    "plt.xticks(())\n",
    "plt.yticks(())\n",
    "\n",
    "plt.show()"
   ]
  },
  {
   "cell_type": "markdown",
   "id": "7a7ed679-2958-4ea8-a544-b703462da8ed",
   "metadata": {},
   "source": [
    "#### Create a single figure with two plots."
   ]
  },
  {
   "cell_type": "code",
   "execution_count": null,
   "id": "bc655a9b-9573-4848-8de6-6c05e1702dc4",
   "metadata": {},
   "outputs": [],
   "source": [
    "import numpy as np\n",
    "import matplotlib.pyplot as plt\n",
    "\n",
    "x = np.linspace(-np.pi,np.pi,101)\n",
    "y = np.sin(x)+np.sin(3*x)/3.0\n",
    "\n",
    "# Note we start with plt.subplots()\n",
    "fig, axs = plt.subplots(1, 2,figsize=(10,5))\n",
    "\n",
    "# Note we now use object axs, returned by plt.subplots()\n",
    "axs[0].plot(x,y,label=\"A\")\n",
    "axs[0].legend()\n",
    "\n",
    "axs[1].plot(x,y,label=\"B\")\n",
    "axs[1].legend()\n",
    "\n",
    "plt.show()"
   ]
  },
  {
   "cell_type": "markdown",
   "id": "323f882f-32b5-40ca-977a-6d81bdad6e30",
   "metadata": {},
   "source": [
    "#### Write a Python programming to display a bar chart of the popularity of programming Languages.\n",
    "\n",
    "Hint: \n",
    "\n",
    "`x = ['Java', 'Python', 'PHP', 'JavaScript', 'C#', 'C++']`\n",
    "\n",
    "`popularity = [22.2, 17.6, 8.8, 8, 7.7, 6.7]`"
   ]
  },
  {
   "cell_type": "code",
   "execution_count": null,
   "id": "2570abd0-b2f1-443c-9695-1977c169084a",
   "metadata": {},
   "outputs": [],
   "source": [
    "import matplotlib.pyplot as plt\n",
    "\n",
    "x = ['Java', 'Python', 'PHP', 'JavaScript', 'C#', 'C++']\n",
    "popularity = [22.2, 17.6, 8.8, 8, 7.7, 6.7]\n",
    "\n",
    "x_pos = [i for i, _ in enumerate(x)]\n",
    "plt.bar(x_pos, popularity, color='blue')\n",
    "plt.xlabel(\"Languages\")\n",
    "plt.ylabel(\"Popularity\")\n",
    "plt.title(\"PopularitY of Programming Language\\n\" + \"Worldwide, Oct 2017 compared to a year ago\")\n",
    "plt.xticks(x_pos, x)\n",
    "# Optional: Turn on the grid. \n",
    "# This display minor ticks on the Axes.\n",
    "plt.minorticks_on()\n",
    "plt.grid(which='major', linestyle='-', linewidth='0.5', color='red')\n",
    "# Optional: Customize the minor grid\n",
    "plt.grid(which='minor', linestyle=':', linewidth='0.5', color='black')\n",
    "plt.show()"
   ]
  },
  {
   "cell_type": "markdown",
   "id": "f78979cb-04ee-4cca-bc87-35a5d7686df0",
   "metadata": {},
   "source": [
    "#### Given the previous exercise, write a Python programming to display a horizontal bar chart of the popularity of programming languages.\n"
   ]
  },
  {
   "cell_type": "code",
   "execution_count": null,
   "id": "a1e7f0a6-3d43-4f4c-bddb-34b6dd5dc0d7",
   "metadata": {},
   "outputs": [],
   "source": [
    "import matplotlib.pyplot as plt\n",
    "x = ['Java', 'Python', 'PHP', 'JS', 'C#', 'C++']\n",
    "popularity = [22.2, 17.6, 8.8, 8, 7.7, 6.7]\n",
    "x_pos = [i for i, _ in enumerate(x)]\n",
    "plt.barh(x_pos, popularity, color='green')\n",
    "plt.xlabel(\"Popularity\")\n",
    "plt.ylabel(\"Languages\")\n",
    "plt.title(\"PopularitY of Programming Language\\n\" + \"Worldwide, Oct 2017 compared to a year ago\")\n",
    "plt.yticks(x_pos, x)\n",
    "# Turn on the grid\n",
    "plt.minorticks_on()\n",
    "plt.grid(which='major', linestyle='-', linewidth='0.5', color='red')\n",
    "# Customize the minor grid\n",
    "plt.grid(which='minor', linestyle=':', linewidth='0.5', color='black')\n",
    "plt.show()"
   ]
  },
  {
   "cell_type": "markdown",
   "id": "9f3dfca7-1fa1-433b-baf4-80a124a0ea83",
   "metadata": {},
   "source": [
    "#### Write a Python programming to display a bar chart of the popularity of programming Languages. Use different color for each bar."
   ]
  },
  {
   "cell_type": "code",
   "execution_count": null,
   "id": "e3ce1a48-03a8-4bcc-b089-ac2084abeff2",
   "metadata": {},
   "outputs": [],
   "source": [
    "import matplotlib.pyplot as plt\n",
    "x = ['Java', 'Python', 'PHP', 'JavaScript', 'C#', 'C++']\n",
    "popularity = [22.2, 17.6, 8.8, 8, 7.7, 6.7]\n",
    "x_pos = [i for i, _ in enumerate(x)]\n",
    "\n",
    "plt.bar(x_pos, popularity, color=['red', 'black', 'green', 'blue', 'yellow', 'cyan'])\n",
    "\n",
    "plt.xlabel(\"Languages\")\n",
    "plt.ylabel(\"Popularity\")\n",
    "plt.title(\"PopularitY of Programming Language\\n\" + \"Worldwide, Oct 2017 compared to a year ago\")\n",
    "plt.xticks(x_pos, x)\n",
    "# Turn on the grid\n",
    "plt.minorticks_on()\n",
    "plt.grid(which='major', linestyle='-', linewidth='0.5', color='red')\n",
    "# Customize the minor grid\n",
    "plt.grid(which='minor', linestyle=':', linewidth='0.5', color='black')\n",
    "plt.show()"
   ]
  },
  {
   "cell_type": "markdown",
   "id": "bf538be3-3079-4b45-b840-98beacc48b99",
   "metadata": {},
   "source": [
    "## Extra exercises\n",
    "\n",
    "\n",
    "#### Write a Python programming to create a pie chart of the popularity of programming Languages.\n",
    "Hint: use `plt.pie`"
   ]
  },
  {
   "cell_type": "code",
   "execution_count": null,
   "id": "4a52ad6b-2864-403a-9bbe-ece6e4bee937",
   "metadata": {},
   "outputs": [],
   "source": [
    "import matplotlib.pyplot as plt\n",
    "# Data to plot\n",
    "languages = 'Java', 'Python', 'PHP', 'JavaScript', 'C#', 'C++'\n",
    "popuratity = [22.2, 17.6, 8.8, 8, 7.7, 6.7]\n",
    "colors = [\"#1f77b4\", \"#ff7f0e\", \"#2ca02c\", \"#d62728\", \"#9467bd\", \"#8c564b\"]\n",
    "# explode 1st slice\n",
    "explode = (0.1, 0, 0, 0,0,0)  \n",
    "# Plot\n",
    "plt.pie(popuratity, explode=explode, labels=languages, colors=colors,\n",
    "autopct='%1.1f%%', shadow=True, startangle=140)\n",
    "\n",
    "plt.axis('equal')\n",
    "plt.show()"
   ]
  },
  {
   "cell_type": "markdown",
   "id": "fc28a454-993d-4829-8e64-66b5e9749319",
   "metadata": {},
   "source": [
    "#### Write a Python program to draw a scatter graph taking a random distribution in X and Y and plotted against each other.\n",
    "\n",
    "Hint:\n",
    "\n",
    "`X = randn(200)`\n",
    "\n",
    "`Y = randn(200)`"
   ]
  },
  {
   "cell_type": "code",
   "execution_count": null,
   "id": "b536de4b-8a41-481b-ace4-6da6ec66cf33",
   "metadata": {},
   "outputs": [],
   "source": [
    "import matplotlib.pyplot as plt\n",
    "from pylab import randn\n",
    "\n",
    "X = randn(200)\n",
    "Y = randn(200)\n",
    "plt.scatter(X,Y, color='r')\n",
    "plt.xlabel(\"X\")\n",
    "plt.ylabel(\"Y\")\n",
    "plt.show()\n"
   ]
  },
  {
   "cell_type": "markdown",
   "id": "21f257ed-7f1b-4f6c-8835-ca104efb8ea8",
   "metadata": {},
   "source": [
    "#### Write a Python program to draw two histograms of two random variables from Laplace distribution."
   ]
  },
  {
   "cell_type": "code",
   "execution_count": null,
   "id": "9c6045b7-f9cf-4a81-8968-03f5614b32b1",
   "metadata": {},
   "outputs": [],
   "source": [
    "import numpy as np\n",
    "import matplotlib.pyplot as plt\n",
    "d1 = np.random.laplace(loc=15, scale=3, size=500)\n",
    "d2 = np.random.laplace(loc=10, scale=3, size=500)\n",
    "\n",
    "plt.figure(figsize=(5,4))\n",
    "\n",
    "plt.hist(d1, bins=10, color='b',alpha=0.7, rwidth=0.85)\n",
    "plt.hist(d2, bins=10, color='r',alpha=0.7, rwidth=0.85)\n",
    "\n",
    "plt.xlabel('Value')\n",
    "plt.ylabel('Frequency')\n",
    "\n",
    "plt.show()"
   ]
  },
  {
   "cell_type": "markdown",
   "id": "8bfc395c-ae54-4242-bbaf-176993663a59",
   "metadata": {},
   "source": [
    "#### Write a Python program to draw a scatter plot using random distributions to generate balls of different sizes. *A bit chalenging (you can google it)!*\n",
    "\n",
    "Hint: you can use The `triangular()` method which returns a random floating number between the two specified numbers (both included), but you can also specify a third parameter, the mode parameter.\n",
    "\n",
    "random.triangular(low, high, mode);\n",
    "\n",
    "low:\tOptional. A number specifying the lowest possible outcome, default 0;\n",
    "\n",
    "high:\tOptional. A number specifying the highest possible outcome, default 1;\n",
    "\n",
    "mode:\tOptional. A number used to weigh the result in any direction, default the midpoint between the low and high values;\n",
    "\n",
    "\n",
    "You can also use `gauss()` method which is an inbuilt method of the random module. It is used to return a random floating point number with gaussian distribution.  \n",
    "\n",
    "random.gauss(mu, sigma)\n",
    "\n",
    "- mu : mean  \n",
    "- sigma : standard deviation"
   ]
  },
  {
   "cell_type": "code",
   "execution_count": null,
   "id": "6ae3352e-6d01-4f83-932f-e9f540e684a4",
   "metadata": {},
   "outputs": [],
   "source": [
    "import math\n",
    "import random\n",
    "import matplotlib.pyplot as plt\n",
    "# create random data\n",
    "no_of_balls = 25\n",
    "x = [random.triangular() for i in range(no_of_balls)]\n",
    "y = [random.gauss(0.5, 0.25) for i in range(no_of_balls)]\n",
    "# random.randint(1, 4), Return a number between 1 and 4 (both included):\n",
    "colors = [random.randint(1, 4) for i in range(no_of_balls)]\n",
    "areas = [math.pi * random.randint(5, 15)**2 for i in range(no_of_balls)]\n",
    "# draw the plot\n",
    "plt.figure()\n",
    "plt.scatter(x, y, s=areas, c=colors, alpha=0.85)\n",
    "plt.axis([0.0, 1.0, 0.0, 1.0])\n",
    "plt.xlabel(\"X\")\n",
    "plt.ylabel(\"Y\")\n",
    "plt.show()"
   ]
  }
 ],
 "metadata": {
  "kernelspec": {
   "display_name": "Python 3",
   "language": "python",
   "name": "python3"
  },
  "language_info": {
   "codemirror_mode": {
    "name": "ipython",
    "version": 3
   },
   "file_extension": ".py",
   "mimetype": "text/x-python",
   "name": "python",
   "nbconvert_exporter": "python",
   "pygments_lexer": "ipython3",
   "version": "3.9.6 (default, Sep 26 2022, 11:37:49) \n[Clang 14.0.0 (clang-1400.0.29.202)]"
  },
  "vscode": {
   "interpreter": {
    "hash": "31f2aee4e71d21fbe5cf8b01ff0e069b9275f58929596ceb00d14d90e3e16cd6"
   }
  }
 },
 "nbformat": 4,
 "nbformat_minor": 5
}
