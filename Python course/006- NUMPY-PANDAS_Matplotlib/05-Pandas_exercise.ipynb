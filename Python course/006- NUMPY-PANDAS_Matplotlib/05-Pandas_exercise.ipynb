{
 "cells": [
  {
   "cell_type": "markdown",
   "id": "a1636b44-5a4b-4bb5-8f99-2ed95d31379e",
   "metadata": {},
   "source": [
    "## ========================================================================\n",
    "## Pandas Exercise  \n",
    "### Mahdi Shafiee Kamalabad\n",
    "## ========================================================================"
   ]
  },
  {
   "cell_type": "code",
   "execution_count": null,
   "id": "052bb610",
   "metadata": {},
   "outputs": [],
   "source": [
    "import numpy as np\n",
    "import pandas as pd"
   ]
  },
  {
   "cell_type": "code",
   "execution_count": null,
   "id": "495bb94e",
   "metadata": {},
   "outputs": [],
   "source": [
    "print(pd.__version__)\n"
   ]
  },
  {
   "cell_type": "markdown",
   "id": "4d7b7e5c",
   "metadata": {},
   "source": [
    "#### Create a pandas series from each of the items below: a list, numpy and a dictionary.\n",
    "Hint: `pd.Series()`"
   ]
  },
  {
   "cell_type": "code",
   "execution_count": null,
   "id": "c0ecdc1c",
   "metadata": {},
   "outputs": [],
   "source": [
    "mylist = list('abcedfghijklmnopqrstuvwxyz')\n",
    "myarr = np.arange(26)\n",
    "mydict = dict(zip(mylist, myarr))"
   ]
  },
  {
   "cell_type": "code",
   "execution_count": null,
   "id": "5e733278",
   "metadata": {},
   "outputs": [],
   "source": [
    "# put your code here\n"
   ]
  },
  {
   "cell_type": "markdown",
   "id": "27dd7c42",
   "metadata": {},
   "source": [
    "#### Convert the series ser into a dataframe with its index as another column on the dataframe.\n",
    "Hint: `ser.to_frame()` and `.reset_index()`"
   ]
  },
  {
   "cell_type": "code",
   "execution_count": null,
   "id": "af80286b",
   "metadata": {},
   "outputs": [],
   "source": [
    "mylist = list('abcedfghijklmnopqrstuvwxyz')\n",
    "myarr = np.arange(26)\n",
    "mydict = dict(zip(mylist, myarr))\n",
    "ser = pd.Series(mydict)\n",
    "\n",
    "# put your code here\n"
   ]
  },
  {
   "cell_type": "markdown",
   "id": "85b84fef",
   "metadata": {},
   "source": [
    "#### Combine ser1 and ser2 to form a dataframe.\n",
    "Hint: `pd.concat()` or `pd.DataFrame()`"
   ]
  },
  {
   "cell_type": "code",
   "execution_count": null,
   "id": "69060ad8",
   "metadata": {},
   "outputs": [],
   "source": [
    "# Input\n",
    "import numpy as np\n",
    "ser1 = pd.Series(list('abcedfghijklmnopqrstuvwxyz'))\n",
    "ser2 = pd.Series(np.arange(26))\n",
    "\n",
    "# put your code here\n"
   ]
  },
  {
   "cell_type": "markdown",
   "id": "8123f6e9",
   "metadata": {},
   "source": [
    "#### Write a Pandas program to add, subtract, multiple and divide two Pandas Series."
   ]
  },
  {
   "cell_type": "code",
   "execution_count": null,
   "id": "1a88a455",
   "metadata": {},
   "outputs": [],
   "source": [
    "import pandas as pd\n",
    "\n",
    "ds1 = pd.Series([2, 4, 6, 8, 10])\n",
    "ds2 = pd.Series([1, 3, 5, 7, 9])\n",
    "\n",
    "# put your code here\n"
   ]
  },
  {
   "cell_type": "markdown",
   "id": "9aa52380",
   "metadata": {},
   "source": [
    "#### Write a Pandas program to compare the elements of the two Pandas Series.\n",
    "\n",
    "Sample Series: `[2, 4, 6, 8, 10], [1, 3, 5, 7, 10]`"
   ]
  },
  {
   "cell_type": "code",
   "execution_count": null,
   "id": "2d8291df",
   "metadata": {},
   "outputs": [],
   "source": [
    "# put your code here\n"
   ]
  },
  {
   "cell_type": "markdown",
   "id": "4884f6fe",
   "metadata": {},
   "source": [
    "#### Write a Pandas program to convert a given dictionary to a Pandas series.\n",
    "Sample dictionary: `d1 = {'a': 100, 'b': 200, 'c':300, 'd':400, 'e':800}`"
   ]
  },
  {
   "cell_type": "code",
   "execution_count": null,
   "id": "163ce50e",
   "metadata": {},
   "outputs": [],
   "source": [
    "# put your code here\n"
   ]
  },
  {
   "cell_type": "markdown",
   "id": "bfe23406",
   "metadata": {},
   "source": [
    "#### Write a Pandas program to sort a given Series.\n",
    "Hint: `sort_values()`"
   ]
  },
  {
   "cell_type": "code",
   "execution_count": null,
   "id": "88ddcda2",
   "metadata": {},
   "outputs": [],
   "source": [
    "import pandas as pd\n",
    "s = pd.Series(['100', '200', 'python', '300.12', '400'])\n",
    "\n",
    "# put your code here\n"
   ]
  },
  {
   "cell_type": "markdown",
   "id": "1915d4c5",
   "metadata": {},
   "source": [
    "#### Write a Pandas program to create the mean and standard deviation of the data of a given Series.\n",
    "Hint: `ser.mean()`,`ser.std()`"
   ]
  },
  {
   "cell_type": "code",
   "execution_count": null,
   "id": "e36d3a29",
   "metadata": {},
   "outputs": [],
   "source": [
    "import pandas as pd\n",
    "s = pd.Series(data = [1,2,3,4,5,6,7,8,9,5,3])\n",
    "\n",
    "# put your code here\n"
   ]
  },
  {
   "cell_type": "markdown",
   "id": "69f4d92a",
   "metadata": {},
   "source": [
    "#### Write a Pandas program to calculate the frequency counts of each unique value of a given series.\n",
    "Hint: `ser.value_counts()`"
   ]
  },
  {
   "cell_type": "code",
   "execution_count": null,
   "id": "007ea7fd",
   "metadata": {},
   "outputs": [],
   "source": [
    "import pandas as pd\n",
    "import numpy as np\n",
    "num_series = pd.Series(np.take(list('0123456789'), np.random.randint(10, size=40)))\n",
    "\n",
    "# put your code here\n"
   ]
  },
  {
   "cell_type": "markdown",
   "id": "013e6c6b",
   "metadata": {},
   "source": [
    "#### How to get the minimum, 25th percentile, median, 75th, and max of a numeric series?\n",
    "Hint: `np.percentile()`"
   ]
  },
  {
   "cell_type": "code",
   "execution_count": null,
   "id": "cea2335d",
   "metadata": {},
   "outputs": [],
   "source": [
    "# Input\n",
    "state = np.random.RandomState(100)\n",
    "ser = pd.Series(state.normal(10, 5, 25))\n",
    "\n",
    "# put your code here\n"
   ]
  },
  {
   "cell_type": "markdown",
   "id": "5e09c372",
   "metadata": {},
   "source": [
    "#### How to stack two series vertically and horizontally ?\n",
    "Hint: `ser.append()`, `pd.concat()`"
   ]
  },
  {
   "cell_type": "code",
   "execution_count": null,
   "id": "a4f1a979",
   "metadata": {},
   "outputs": [],
   "source": [
    "# Input\n",
    "ser1 = pd.Series(range(5))\n",
    "ser2 = pd.Series(list('abcde'))\n",
    "\n",
    "# put your code here\n"
   ]
  },
  {
   "cell_type": "markdown",
   "id": "dd748ac6",
   "metadata": {},
   "source": [
    "#### How to compute the euclidean distance between two series?\n",
    "Hint: elducidean distance definition"
   ]
  },
  {
   "cell_type": "code",
   "execution_count": null,
   "id": "a9700732",
   "metadata": {},
   "outputs": [],
   "source": [
    "# Input\n",
    "p = pd.Series([1, 2, 3, 4, 5, 6, 7, 8, 9, 10])\n",
    "q = pd.Series([10, 9, 8, 7, 6, 5, 4, 3, 2, 1])\n",
    "\n",
    "# put your code here\n"
   ]
  },
  {
   "cell_type": "markdown",
   "id": "81050ff8",
   "metadata": {},
   "source": [
    "# Extra exercises\n",
    "\n",
    "#### Write a Pandas program to convert a Panda module Series to Python list and print its type.\n",
    "Hint: `ser.tolist()`"
   ]
  },
  {
   "cell_type": "code",
   "execution_count": null,
   "id": "efbea707",
   "metadata": {},
   "outputs": [],
   "source": [
    "import pandas as pd\n",
    "ds = pd.Series([2, 4, 6, 8, 10])\n",
    "\n",
    "# put your code here\n"
   ]
  },
  {
   "cell_type": "markdown",
   "id": "3f406433",
   "metadata": {},
   "source": [
    "#### Write a Pandas program convert the first and last character of each word to upper case in each word of a given series.\n",
    "Hint: use `map()` with `upper()`"
   ]
  },
  {
   "cell_type": "code",
   "execution_count": null,
   "id": "ab51e937",
   "metadata": {},
   "outputs": [],
   "source": [
    "import pandas as pd\n",
    "series1 = pd.Series(['php', 'python', 'java', 'c#'])\n",
    "\n",
    "# put your code here\n"
   ]
  },
  {
   "cell_type": "markdown",
   "id": "3ed1c29d",
   "metadata": {},
   "source": [
    "#### Write a Pandas program to calculate the number of characters in each word in a given series.\n",
    "Hint: use `map()` with `len()`"
   ]
  },
  {
   "cell_type": "code",
   "execution_count": null,
   "id": "baf07c41",
   "metadata": {},
   "outputs": [],
   "source": [
    "import pandas as pd\n",
    "series1 = pd.Series(['Php', 'Python', 'Java', 'C#'])\n",
    "\n",
    "# put your code here\n"
   ]
  },
  {
   "cell_type": "markdown",
   "id": "05679b84",
   "metadata": {},
   "source": [
    "#### Write a Pandas program to filter words from a given series that contain at least two vowels.\n",
    "Hint: use `map()` with `Counter()`"
   ]
  },
  {
   "cell_type": "code",
   "execution_count": null,
   "id": "51e00645",
   "metadata": {},
   "outputs": [],
   "source": [
    "import pandas as pd\n",
    "from collections import Counter\n",
    "color_series = pd.Series(['Red', 'Green', 'Orange', 'Pink', 'Yellow', 'White'])\n",
    "\n",
    "# put your code here\n"
   ]
  },
  {
   "cell_type": "markdown",
   "id": "472ba99f",
   "metadata": {},
   "source": [
    "#### Write a Pandas program to detect missing values of a given DataFrame. Display True or False.\n",
    "Hint: `df.isna()`"
   ]
  },
  {
   "cell_type": "code",
   "execution_count": null,
   "id": "28684e2d",
   "metadata": {},
   "outputs": [],
   "source": [
    "import pandas as pd\n",
    "import numpy as np\n",
    "pd.set_option('display.max_rows', None)\n",
    "#pd.set_option('display.max_columns', None)\n",
    "df = pd.DataFrame({\n",
    "'ord_no':[70001,np.nan,70002,70004,np.nan,70005,np.nan,70010,70003,70012,np.nan,70013],\n",
    "'purch_amt':[150.5,270.65,65.26,110.5,948.5,2400.6,5760,1983.43,2480.4,250.45, 75.29,3045.6],\n",
    "'ord_date': ['2012-10-05','2012-09-10',np.nan,'2012-08-17','2012-09-10','2012-07-27','2012-09-10','2012-10-10','2012-10-10','2012-06-27','2012-08-17','2012-04-25'],\n",
    "'customer_id':[3002,3001,3001,3003,3002,3001,3001,3004,3003,3002,3001,3001],\n",
    "'salesman_id':[5002,5003,5001,np.nan,5002,5001,5001,np.nan,5003,5002,5003,np.nan]})\n",
    "\n",
    "# put your code here\n"
   ]
  },
  {
   "cell_type": "markdown",
   "id": "9ed2daac",
   "metadata": {},
   "source": [
    "#### Write a Pandas program to count the number of missing values in each column of a given DataFrame."
   ]
  },
  {
   "cell_type": "code",
   "execution_count": null,
   "id": "ad3b38a0",
   "metadata": {},
   "outputs": [],
   "source": [
    "import pandas as pd\n",
    "import numpy as np\n",
    "pd.set_option('display.max_rows', None)\n",
    "#pd.set_option('display.max_columns', None)\n",
    "df = pd.DataFrame({\n",
    "'ord_no':[70001,np.nan,70002,70004,np.nan,70005,np.nan,70010,70003,70012,np.nan,70013],\n",
    "'purch_amt':[150.5,270.65,65.26,110.5,948.5,2400.6,5760,1983.43,2480.4,250.45, 75.29,3045.6],\n",
    "'ord_date': ['2012-10-05','2012-09-10',np.nan,'2012-08-17','2012-09-10','2012-07-27','2012-09-10','2012-10-10','2012-10-10','2012-06-27','2012-08-17','2012-04-25'],\n",
    "'customer_id':[3002,3001,3001,3003,3002,3001,3001,3004,3003,3002,3001,3001],\n",
    "'salesman_id':[5002,5003,5001,np.nan,5002,5001,5001,np.nan,5003,5002,5003,np.nan]})\n",
    "\n",
    "# put your code here\n"
   ]
  },
  {
   "cell_type": "markdown",
   "id": "8f27a674",
   "metadata": {},
   "source": [
    "#### Write a Pandas program to drop the columns where at least one element is missing in a given DataFrame.\n",
    "Hint: `df.dropna()`"
   ]
  },
  {
   "cell_type": "code",
   "execution_count": null,
   "id": "37eb91a7",
   "metadata": {},
   "outputs": [],
   "source": [
    "import pandas as pd\n",
    "import numpy as np\n",
    "pd.set_option('display.max_rows', None)\n",
    "#pd.set_option('display.max_columns', None)\n",
    "df = pd.DataFrame({\n",
    "'ord_no':[70001,np.nan,70002,70004,np.nan,70005,np.nan,70010,70003,70012,np.nan,70013],\n",
    "'purch_amt':[150.5,270.65,65.26,110.5,948.5,2400.6,5760,1983.43,2480.4,250.45, 75.29,3045.6],\n",
    "'ord_date': ['2012-10-05','2012-09-10',np.nan,'2012-08-17','2012-09-10','2012-07-27','2012-09-10','2012-10-10','2012-10-10','2012-06-27','2012-08-17','2012-04-25'],\n",
    "'customer_id':[3002,3001,3001,3003,3002,3001,3001,3004,3003,3002,3001,3001],\n",
    "'salesman_id':[5002,5003,5001,np.nan,5002,5001,5001,np.nan,5003,5002,5003,np.nan]})\n",
    "\n",
    "# put your code here\n"
   ]
  },
  {
   "cell_type": "markdown",
   "id": "782da7d6",
   "metadata": {},
   "source": [
    "#### Write a Pandas program to drop those rows from a given DataFrame in which spicific columns have missing values.\n"
   ]
  },
  {
   "cell_type": "code",
   "execution_count": null,
   "id": "c5fe6c00",
   "metadata": {},
   "outputs": [],
   "source": [
    "import pandas as pd\n",
    "import numpy as np\n",
    "pd.set_option('display.max_rows', None)\n",
    "#pd.set_option('display.max_columns', None)\n",
    "df = pd.DataFrame({\n",
    "'ord_no':[np.nan,np.nan,70002,np.nan,np.nan,70005,np.nan,70010,70003,70012,np.nan,np.nan],\n",
    "'purch_amt':[np.nan,270.65,65.26,np.nan,948.5,2400.6,5760,1983.43,2480.4,250.45, 75.29,np.nan],\n",
    "'ord_date': [np.nan,'2012-09-10',np.nan,np.nan,'2012-09-10','2012-07-27','2012-09-10','2012-10-10','2012-10-10','2012-06-27','2012-08-17',np.nan],\n",
    "'customer_id':[np.nan,3001,3001,np.nan,3002,3001,3001,3004,3003,3002,3001,np.nan]})\n",
    "\n",
    "# put your code here\n"
   ]
  },
  {
   "cell_type": "markdown",
   "id": "9f24aa39",
   "metadata": {},
   "source": [
    "---\n",
    "#### See the following pieces of codes and try to understand the logic behind that:"
   ]
  },
  {
   "cell_type": "code",
   "execution_count": null,
   "id": "8490c248",
   "metadata": {},
   "outputs": [],
   "source": [
    "data = pd.DataFrame(np.arange(16).reshape((4, 4)),\n",
    "                    index=['Ohio', 'Colorado', 'Utah', 'New York'],\n",
    "                    columns=['one', 'two', 'three', 'four'])\n",
    "data"
   ]
  },
  {
   "cell_type": "code",
   "execution_count": null,
   "id": "78c658b8",
   "metadata": {},
   "outputs": [],
   "source": [
    "# Slicing with integers (followed by boolean selection)\n",
    "data.iloc[:,:3][data.three > 5]"
   ]
  },
  {
   "cell_type": "code",
   "execution_count": null,
   "id": "8bd3cafc",
   "metadata": {},
   "outputs": [],
   "source": [
    "frame = pd.DataFrame(np.random.randn(4, 3), columns=list('bde'),\n",
    "                     index=['Utah', 'Ohio', 'Texas', 'Oregon'])\n",
    "frame\n",
    "# Absolute value of the dataframe\n",
    "np.abs(frame)"
   ]
  },
  {
   "cell_type": "code",
   "execution_count": null,
   "id": "c4ffe48d",
   "metadata": {},
   "outputs": [],
   "source": [
    "# Calculate the range of each column\n",
    "f = lambda x: x.max() - x.min()\n",
    "frame.apply(f)"
   ]
  },
  {
   "cell_type": "markdown",
   "id": "41e872f0",
   "metadata": {},
   "source": [
    "You can require the function to become row-specific by passing the argument axis='columns' to `apply`:"
   ]
  },
  {
   "cell_type": "code",
   "execution_count": null,
   "id": "daf2eadc",
   "metadata": {},
   "outputs": [],
   "source": [
    "# By passing axis='columns', the function is calculated for each row: \n",
    "frame.apply(f, axis='columns')"
   ]
  },
  {
   "cell_type": "markdown",
   "id": "a3cb0ccb",
   "metadata": {},
   "source": [
    "**Sorting**. You can sort a Series by index label: "
   ]
  },
  {
   "cell_type": "code",
   "execution_count": null,
   "id": "3186f4ee",
   "metadata": {},
   "outputs": [],
   "source": [
    "obj = pd.Series(range(4), index=['d', 'a', 'b', 'c'])\n",
    "obj\n",
    "obj.sort_index()"
   ]
  },
  {
   "cell_type": "code",
   "execution_count": null,
   "id": "04b8908a",
   "metadata": {},
   "outputs": [],
   "source": [
    "frame = pd.DataFrame(np.arange(8).reshape((2, 4)),\n",
    "                     index=['three', 'one'],\n",
    "                     columns=['d', 'a', 'b', 'c'])\n",
    "# Sort by row index\n",
    "frame.sort_index()"
   ]
  },
  {
   "cell_type": "code",
   "execution_count": null,
   "id": "4051ef22",
   "metadata": {},
   "outputs": [],
   "source": [
    "# Sort by column index\n",
    "frame.sort_index(axis=1)"
   ]
  },
  {
   "cell_type": "code",
   "execution_count": null,
   "id": "767bb3fd",
   "metadata": {},
   "outputs": [],
   "source": [
    "obj.sort_values()"
   ]
  },
  {
   "cell_type": "code",
   "execution_count": null,
   "id": "26f64d08",
   "metadata": {},
   "outputs": [],
   "source": [
    "frame = pd.DataFrame({'b': [4, 7, -3, 2], 'a': [0, 1, 0, 1]})\n",
    "frame"
   ]
  },
  {
   "cell_type": "code",
   "execution_count": null,
   "id": "b2da92b5",
   "metadata": {},
   "outputs": [],
   "source": [
    "# Sort DataFrame by the 'b' column:\n",
    "frame.sort_values(by='b')"
   ]
  },
  {
   "cell_type": "code",
   "execution_count": null,
   "id": "c330ae00",
   "metadata": {},
   "outputs": [],
   "source": [
    "# Sort DataFrame by multiple columns (a first, and then b): \n",
    "frame.sort_values(by=['a','b'])"
   ]
  },
  {
   "cell_type": "markdown",
   "id": "4a573a7a",
   "metadata": {},
   "source": [
    "We can also count how many times values appears in the columns of a DataFrame. We see now an example in which we combine apply and value_counts"
   ]
  },
  {
   "cell_type": "code",
   "execution_count": null,
   "id": "a4216c0c",
   "metadata": {},
   "outputs": [],
   "source": [
    "data = pd.DataFrame({'Qu1': [1, 3, 4, 3, 4],\n",
    "                     'Qu2': [2, 3, 1, 2, 3],\n",
    "                     'Qu3': [1, 5, 2, 4, 4]})\n",
    "data"
   ]
  },
  {
   "cell_type": "code",
   "execution_count": null,
   "id": "8dd39795",
   "metadata": {},
   "outputs": [],
   "source": [
    "result = data.apply(pd.value_counts).fillna(0)\n",
    "# The fillna() function is used to fill NA/NaN values using the specified method.\n",
    "result\n"
   ]
  },
  {
   "cell_type": "markdown",
   "id": "144ffa44",
   "metadata": {},
   "source": [
    "The row labels in the results report the distinct values observed in the DataFrame; the values are the respective counts of these values. Because some values were not observed within some column (for instance, value 2 in column 1), the `fillna` method was used to replace the missing data indicator (NaN) with the value 0 (to denote no counts)."
   ]
  },
  {
   "cell_type": "markdown",
   "id": "9a88b0c2",
   "metadata": {},
   "source": [
    "`select_dtypes` can be used to select columns of a DataFrame having a specific dtype: "
   ]
  },
  {
   "cell_type": "code",
   "execution_count": null,
   "id": "dbe1222e",
   "metadata": {},
   "outputs": [],
   "source": [
    "data = pd.DataFrame({\n",
    "    'string_1':['a','b','c'],\n",
    "    'int_1':[1,2,3],\n",
    "    'float_1':[-0.5,0.,0.5],\n",
    "    'string_2':['d','e','f'],\n",
    "    'int_2':[4,5,6],\n",
    "    'float_2':[1.0, 1.5, 2.5]\n",
    "})\n",
    "data"
   ]
  },
  {
   "cell_type": "code",
   "execution_count": null,
   "id": "9ec0aa07",
   "metadata": {},
   "outputs": [],
   "source": [
    "data.select_dtypes(['float'])"
   ]
  },
  {
   "cell_type": "code",
   "execution_count": null,
   "id": "dc30cdb2",
   "metadata": {},
   "outputs": [],
   "source": [
    "data.select_dtypes(['object','int'])"
   ]
  }
 ],
 "metadata": {
  "kernelspec": {
   "display_name": "Python 3 (ipykernel)",
   "language": "python",
   "name": "python3"
  },
  "language_info": {
   "codemirror_mode": {
    "name": "ipython",
    "version": 3
   },
   "file_extension": ".py",
   "mimetype": "text/x-python",
   "name": "python",
   "nbconvert_exporter": "python",
   "pygments_lexer": "ipython3",
   "version": "3.9.7"
  }
 },
 "nbformat": 4,
 "nbformat_minor": 5
}
