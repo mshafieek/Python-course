{
 "cells": [
  {
   "cell_type": "markdown",
   "id": "fae49344-5713-402e-a0ed-868733a4291a",
   "metadata": {},
   "source": [
    "## ========================================================================\n",
    "## Numpy Exercise\n",
    "### Mahdi Shafiee Kamalabad\n",
    "## ========================================================================"
   ]
  },
  {
   "cell_type": "code",
   "execution_count": null,
   "id": "990ead37",
   "metadata": {},
   "outputs": [],
   "source": [
    "import pandas as pd \n",
    "import numpy as np"
   ]
  },
  {
   "cell_type": "code",
   "execution_count": null,
   "id": "3157cc22",
   "metadata": {},
   "outputs": [],
   "source": [
    "print(np.__version__) # version control"
   ]
  },
  {
   "cell_type": "markdown",
   "id": "6ad56dca",
   "metadata": {},
   "source": [
    "#### Write a NumPy program to get help on the add function.\n",
    "\n",
    "Hint: `np.info()`    "
   ]
  },
  {
   "cell_type": "code",
   "execution_count": null,
   "id": "0b859ebc",
   "metadata": {},
   "outputs": [],
   "source": [
    "# put your code here\n"
   ]
  },
  {
   "cell_type": "markdown",
   "id": "79e34d0b",
   "metadata": {},
   "source": [
    "#### Write a NumPy program to test whether none of the elements of a given array is zero.\n",
    "\n",
    "Hint: `np.all()`"
   ]
  },
  {
   "cell_type": "code",
   "execution_count": null,
   "id": "57005258",
   "metadata": {},
   "outputs": [],
   "source": [
    "# put your code here\n"
   ]
  },
  {
   "cell_type": "markdown",
   "id": "6aef2696",
   "metadata": {},
   "source": [
    "#### Write a NumPy program to test whether any of the elements of a given array is non-zero.\n",
    "\n",
    "Hint: `np.any()`\n"
   ]
  },
  {
   "cell_type": "code",
   "execution_count": null,
   "id": "0e8eefef",
   "metadata": {},
   "outputs": [],
   "source": [
    "# put your code here\n"
   ]
  },
  {
   "cell_type": "markdown",
   "id": "800d59ab",
   "metadata": {},
   "source": [
    "#### Write a NumPy program to create an element-wise comparison (greater, greater_equal, less and less_equal) of two given arrays.\n",
    "\n",
    "Input:  \n",
    "    x = np.array([3, 5])  \n",
    "    y = np.array([2, 5])\n",
    "    \n",
    "E.g. you can use np.greater(..., ...)"
   ]
  },
  {
   "cell_type": "code",
   "execution_count": null,
   "id": "7b2fbaf4",
   "metadata": {},
   "outputs": [],
   "source": [
    "# put your code here\n"
   ]
  },
  {
   "cell_type": "markdown",
   "id": "10ef4e77",
   "metadata": {},
   "source": [
    "#### Write a NumPy program to create an array with the values 1, 7, 13, 105 and determine the size of the memory occupied by the array.\n",
    "\n",
    "Hint:  \n",
    "*Size of the memory occupied by the said array*\n",
    "`.size`  `.itemsize`\n"
   ]
  },
  {
   "cell_type": "code",
   "execution_count": null,
   "id": "220f1965",
   "metadata": {},
   "outputs": [],
   "source": [
    "# put your code here\n"
   ]
  },
  {
   "cell_type": "markdown",
   "id": "17639ed8",
   "metadata": {},
   "source": [
    "#### Write a NumPy program to create an array of the integers from 30 to 70.\n",
    "\n",
    "Hint: `np.arange()`"
   ]
  },
  {
   "cell_type": "code",
   "execution_count": null,
   "id": "d1fadd8c",
   "metadata": {},
   "outputs": [],
   "source": [
    "# put your code here\n"
   ]
  },
  {
   "cell_type": "markdown",
   "id": "9ea98d73-21f8-48a0-afae-b812203ec88f",
   "metadata": {},
   "source": [
    "#### Write a NumPy program to create an array of all the even integers from 30 to 70.\n",
    "Hint: `np.arange()`"
   ]
  },
  {
   "cell_type": "code",
   "execution_count": null,
   "id": "50ed4c1a",
   "metadata": {},
   "outputs": [],
   "source": [
    "# put your code here\n"
   ]
  },
  {
   "cell_type": "markdown",
   "id": "3f25eac9",
   "metadata": {},
   "source": [
    "#### Write a NumPy program to generate a random number between 0 and 1.\n",
    "Hint: `np.random.normal`\n"
   ]
  },
  {
   "cell_type": "code",
   "execution_count": null,
   "id": "be659352",
   "metadata": {},
   "outputs": [],
   "source": [
    "# put your code here\n"
   ]
  },
  {
   "cell_type": "markdown",
   "id": "fb547358",
   "metadata": {},
   "source": [
    "#### Write a NumPy program to create a 3X4 array and iterate over it.\n",
    "\n",
    "Hint: Check whether you can use `np.nditer`. You can google it."
   ]
  },
  {
   "cell_type": "code",
   "execution_count": null,
   "id": "5e18d64e",
   "metadata": {},
   "outputs": [],
   "source": [
    "# put your code here\n"
   ]
  },
  {
   "cell_type": "markdown",
   "id": "81a40b8f",
   "metadata": {},
   "source": [
    "#### Write a NumPy program to create a vector of length 10 with values evenly distributed between 5 and 50.\n",
    "\n",
    "Hint: `.linspace()`"
   ]
  },
  {
   "cell_type": "code",
   "execution_count": null,
   "id": "ec837c84",
   "metadata": {},
   "outputs": [],
   "source": [
    "# put your code here\n"
   ]
  },
  {
   "cell_type": "markdown",
   "id": "cb0ff022",
   "metadata": {},
   "source": [
    "#### Write a NumPy program to test element-wise for NaN of a given array.\n",
    "\n",
    "Hint: `.isnan()`"
   ]
  },
  {
   "cell_type": "code",
   "execution_count": null,
   "id": "4fdb119d",
   "metadata": {},
   "outputs": [],
   "source": [
    "# put your code here\n"
   ]
  },
  {
   "cell_type": "markdown",
   "id": "e5edb52b",
   "metadata": {},
   "source": [
    "#### Given are 2 similar dimensional numpy arrays, how to get a numpy array output in which every element is an element-wise sum of the 2 numpy arrays?"
   ]
  },
  {
   "cell_type": "code",
   "execution_count": null,
   "id": "acf1fb72",
   "metadata": {},
   "outputs": [],
   "source": [
    "a = np.array([[1,2,3],\n",
    "              [4,5,6]])\n",
    "\n",
    "b = np.array([[10,11,12],\n",
    "              [13,14,15]])\n",
    "\n",
    "# put your code here\n"
   ]
  },
  {
   "cell_type": "markdown",
   "id": "3a43b7da",
   "metadata": {},
   "source": [
    "#### Given a numpy array (matrix), how to get a numpy array output which is equal to the original matrix multiplied by a scalar?"
   ]
  },
  {
   "cell_type": "code",
   "execution_count": null,
   "id": "37279252",
   "metadata": {},
   "outputs": [],
   "source": [
    "a = np.array([[1,2,3],\n",
    "              [4,5,6]])\n",
    "\n",
    "# put your code here\n"
   ]
  },
  {
   "cell_type": "markdown",
   "id": "615688de",
   "metadata": {},
   "source": [
    "#### Create an identity matrix of dimension 4-by-4.\n",
    "Hint:`np.eye()`"
   ]
  },
  {
   "cell_type": "code",
   "execution_count": null,
   "id": "7e188385",
   "metadata": {},
   "outputs": [],
   "source": [
    "# put your code here\n"
   ]
  },
  {
   "cell_type": "markdown",
   "id": "bacc1720",
   "metadata": {},
   "source": [
    "#### Convert a 1-D array to a 3-D array.\n",
    "Hint: `np.reshape()`"
   ]
  },
  {
   "cell_type": "code",
   "execution_count": null,
   "id": "4cb8d9b6",
   "metadata": {},
   "outputs": [],
   "source": [
    "a = np.array([x for x in range(27)]) # 1-D array\n",
    "\n",
    "# put your code here\n"
   ]
  },
  {
   "cell_type": "markdown",
   "id": "e2dab832",
   "metadata": {},
   "source": [
    "#### Convert all the elements of a numpy array from float to integer datatype.\n",
    "Hint: `np.astype()`"
   ]
  },
  {
   "cell_type": "code",
   "execution_count": null,
   "id": "6e168930",
   "metadata": {},
   "outputs": [],
   "source": [
    "a = np.array([[2.5, 3.8, 1.5],\n",
    "              [4.7, 2.9, 1.56]])\n",
    "\n",
    "# put your code here\n"
   ]
  },
  {
   "cell_type": "markdown",
   "id": "d1ea06b9",
   "metadata": {},
   "source": [
    "#### Stack 2 numpy arrays horizontally i.e., 2 arrays having the same 1st dimension (number of rows in 2D arrays).\n",
    "Hint: `np.hstack()`"
   ]
  },
  {
   "cell_type": "code",
   "execution_count": null,
   "id": "b26eb0b1",
   "metadata": {},
   "outputs": [],
   "source": [
    "a1 = np.array([[1,2,3],\n",
    "               [4,5,6]])\n",
    "\n",
    "a2 = np.array([[7,8,9],\n",
    "               [10,11,12]])\n",
    "\n",
    "# put your code here\n"
   ]
  },
  {
   "cell_type": "markdown",
   "id": "df772eaa",
   "metadata": {},
   "source": [
    "#### Stack 2 numpy arrays vertically i.e., 2 arrays having the same last dimension (number of columns in 2D arrays).\n",
    "Hint: `np.vstack()`"
   ]
  },
  {
   "cell_type": "code",
   "execution_count": null,
   "id": "2a015afe",
   "metadata": {},
   "outputs": [],
   "source": [
    "a1 = np.array([[1,2],\n",
    "               [3,4],\n",
    "               [5,6]])\n",
    "\n",
    "a2 = np.array([[7,8],\n",
    "               [9,10],\n",
    "               [10,11]])\n",
    "\n",
    "# put your code here\n"
   ]
  },
  {
   "cell_type": "markdown",
   "id": "81b4cd43",
   "metadata": {},
   "source": [
    "# Extra exercises\n",
    "\n",
    "#### From 2 numpy arrays, extract the indexes in which the elements in the 2 arrays match.\n",
    "Hint: np.where()\n"
   ]
  },
  {
   "cell_type": "code",
   "execution_count": null,
   "id": "a443522c",
   "metadata": {},
   "outputs": [],
   "source": [
    "a = np.array([1,2,3,4,5])\n",
    "\n",
    "b = np.array([1,3,2,4,5])\n",
    "\n",
    "# put your code here\n"
   ]
  },
  {
   "cell_type": "markdown",
   "id": "be8b7441",
   "metadata": {},
   "source": [
    "#### Given 2 numpy arrays as matrices, output the result of multiplying the 2 matrices (as a numpy array).\n",
    "Hint: `@`  or `np.matmul()`"
   ]
  },
  {
   "cell_type": "code",
   "execution_count": null,
   "id": "36d055ea",
   "metadata": {},
   "outputs": [],
   "source": [
    "a = np.array([[1,2,3],\n",
    "              [4,5,6],\n",
    "              [7,8,9]])\n",
    "\n",
    "b = np.array([[2,3,4],\n",
    "              [5,6,7],\n",
    "              [8,9,10]])\n",
    "\n",
    "# put your code here\n"
   ]
  },
  {
   "cell_type": "markdown",
   "id": "b2485991",
   "metadata": {},
   "source": [
    "\n",
    "#### Replace all odd numbers in `arr` with *-1* Input:\n",
    "Hint: use modulo operator"
   ]
  },
  {
   "cell_type": "code",
   "execution_count": null,
   "id": "1eb35d8e",
   "metadata": {},
   "outputs": [],
   "source": [
    "arr = np.array([0, 1, 2, 3, 4, 5, 6, 7, 8, 9])\n",
    "\n",
    "# put your code here\n"
   ]
  },
  {
   "cell_type": "markdown",
   "id": "380b3092",
   "metadata": {},
   "source": [
    "#### Convert a 1D array to a 2D array with 2 rows Input:\n"
   ]
  },
  {
   "cell_type": "code",
   "execution_count": null,
   "id": "22c98a5a",
   "metadata": {},
   "outputs": [],
   "source": [
    "arr = np.arange(10) # 1D array\n",
    "\n",
    "# put your code here\n"
   ]
  },
  {
   "cell_type": "markdown",
   "id": "838d5649",
   "metadata": {},
   "source": [
    "#### Reverse the rows of a 2D array `arr`."
   ]
  },
  {
   "cell_type": "code",
   "execution_count": null,
   "id": "7ddad698",
   "metadata": {},
   "outputs": [],
   "source": [
    "arr = np.arange(9).reshape(3,3) # 2D array\n",
    "\n",
    "# put your code here\n"
   ]
  },
  {
   "cell_type": "markdown",
   "id": "1063a229",
   "metadata": {},
   "source": [
    "#### A Bit challenging:  Write a NumPy program to create a 10x10 matrix, in which the elements on the borders will be equal to 1, and inside 0.\n",
    "Hint: First use `np.ones()` to create 10x10 matrix, and replace the inner matrix elements by 0."
   ]
  },
  {
   "cell_type": "code",
   "execution_count": null,
   "id": "f34e890b",
   "metadata": {},
   "outputs": [],
   "source": [
    "# put your code here\n"
   ]
  },
  {
   "cell_type": "markdown",
   "id": "a18d95d9",
   "metadata": {},
   "source": [
    "#### Write a NumPy program to create a 5x5 zero matrix with elements on the main diagonal equal to 1, 2, 3, 4, 5.\n",
    "Hint: `np.diag`\n"
   ]
  },
  {
   "cell_type": "code",
   "execution_count": null,
   "id": "870b7725",
   "metadata": {},
   "outputs": [],
   "source": [
    "# put your code here\n"
   ]
  },
  {
   "attachments": {
    "numpy-basic-image-exercise-33.jpg": {
     "image/jpeg": "[encoded data removed]"
    }
   },
   "cell_type": "markdown",
   "id": "45d1377d",
   "metadata": {},
   "source": [
    "#### Write a NumPy program to compute the inner product of two given vectors.\n",
    "![numpy-basic-image-exercise-33.jpg](attachment:numpy-basic-image-exercise-33.jpg)"
   ]
  },
  {
   "cell_type": "code",
   "execution_count": null,
   "id": "6473b68e",
   "metadata": {},
   "outputs": [],
   "source": [
    "import numpy as np\n",
    "x = np.array([4, 5])\n",
    "y = np.array([7, 10])\n",
    "\n",
    "# put your code here\n"
   ]
  },
  {
   "cell_type": "markdown",
   "id": "e60fb43a",
   "metadata": {},
   "source": [
    "#### Guess what is the output of the following program? You can also google it."
   ]
  },
  {
   "cell_type": "code",
   "execution_count": null,
   "id": "013919ce",
   "metadata": {},
   "outputs": [],
   "source": [
    "import numpy as np\n",
    "import matplotlib.pyplot as plt\n",
    "\n",
    "# Compute the x and y coordinates for points on a sine curve\n",
    "x = np.arange(0, 3 * np.pi, 0.2)\n",
    "y = np.sin(x)\n",
    "print(\"Plot the points using matplotlib:\")\n",
    "plt.plot(x, y)\n",
    "plt.show()"
   ]
  }
 ],
 "metadata": {
  "kernelspec": {
   "display_name": "Python 3",
   "language": "python",
   "name": "python3"
  },
  "language_info": {
   "codemirror_mode": {
    "name": "ipython",
    "version": 3
   },
   "file_extension": ".py",
   "mimetype": "text/x-python",
   "name": "python",
   "nbconvert_exporter": "python",
   "pygments_lexer": "ipython3",
   "version": "3.9.6 (default, Sep 26 2022, 11:37:49) \n[Clang 14.0.0 (clang-1400.0.29.202)]"
  },
  "vscode": {
   "interpreter": {
    "hash": "31f2aee4e71d21fbe5cf8b01ff0e069b9275f58929596ceb00d14d90e3e16cd6"
   }
  }
 },
 "nbformat": 4,
 "nbformat_minor": 5
}
