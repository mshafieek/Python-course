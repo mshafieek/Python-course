{
 "cells": [
  {
   "cell_type": "markdown",
   "metadata": {
    "tags": []
   },
   "source": [
    "## =========================================================================\n",
    "##  Test  for object and data structure\n",
    "\n",
    "### Mahdi Shafiee Kamalabad\n",
    "## =========================================================================\n",
    "\n",
    "### Please feel free to come back to review lecture notebooks for answering the following exercises.\n"
   ]
  },
  {
   "cell_type": "markdown",
   "metadata": {},
   "source": [
    "**Write or just say out loud to yourself a brief description of all the following Object Types and Data Structures we've learned about. You can edit the cell below by double clicking on it. This is just to test if you know the difference between these, so feel free to just think about it, since your answers are self-graded.**"
   ]
  },
  {
   "cell_type": "markdown",
   "metadata": {},
   "source": [
    "Numbers:\n",
    "\n",
    "Strings:\n",
    "\n",
    "Lists:\n",
    "\n",
    "Tuples:\n",
    "\n",
    "Dictionaries:"
   ]
  },
  {
   "cell_type": "markdown",
   "metadata": {},
   "source": [
    "## Numbers\n",
    "\n",
    "**Write an equation that uses multiplication, division, an exponent, addition, and subtraction that is equal to **100.25**.**\n",
    "\n",
    "Hint: This is just to test your memory of the basic arithmetic commands, work backwards from 100.25"
   ]
  },
  {
   "cell_type": "code",
   "execution_count": null,
   "metadata": {},
   "outputs": [],
   "source": [
    "# your code here\n"
   ]
  },
  {
   "cell_type": "markdown",
   "metadata": {},
   "source": [
    "**Answer these 3 questions without typing code. Then type code to check your answer.**\n",
    "\n",
    "    What is the value of the expression 4 * (6 + 5)\n",
    "    \n",
    "    What is the value of the expression 4 * 6 + 5 \n",
    "    \n",
    "    What is the value of the expression 4 + 6 * 5 "
   ]
  },
  {
   "cell_type": "markdown",
   "metadata": {},
   "source": [
    "**Using pyton built-in function answer the following:**"
   ]
  },
  {
   "cell_type": "markdown",
   "metadata": {},
   "source": [
    "What is the *type* of the result of the expression 3 + 1.5 + 4?<br><br>\n",
    "What is the *type* of the result of the expression 3 + 1.0?<br><br>\n",
    "What is the *type* of the result of the expression 3 + 1?<br><br>"
   ]
  },
  {
   "cell_type": "markdown",
   "metadata": {},
   "source": [
    "**What would you use to find a number’s square root, as well as its square? (you can google it)**"
   ]
  },
  {
   "cell_type": "code",
   "execution_count": null,
   "metadata": {},
   "outputs": [],
   "source": [
    "# Square root:\n"
   ]
  },
  {
   "cell_type": "code",
   "execution_count": null,
   "metadata": {},
   "outputs": [],
   "source": [
    "# Square:\n"
   ]
  },
  {
   "cell_type": "code",
   "execution_count": null,
   "metadata": {},
   "outputs": [],
   "source": [
    "## What is the output of the following code?\n",
    "\n",
    "valueOne = 5 ** 2\n",
    "valueTwo = 5 ** 3\n",
    "\n",
    "# print(valueOne)\n",
    "# print(valueTwo)"
   ]
  },
  {
   "cell_type": "code",
   "execution_count": null,
   "metadata": {},
   "outputs": [],
   "source": [
    "## What is the output of the following code?\n",
    "p, q, r = 10, 20 ,30\n",
    "# print(p, q, r)"
   ]
  },
  {
   "cell_type": "markdown",
   "metadata": {},
   "source": [
    "## Strings"
   ]
  },
  {
   "cell_type": "markdown",
   "metadata": {},
   "source": [
    "#### Some tips on string formatting. Please read the following table carefully:"
   ]
  },
  {
   "cell_type": "markdown",
   "metadata": {},
   "source": [
    "| Topic | Explanation |\n",
    "|-----------|--------|\n",
    "| `quotes` |\tA string is delimited by single quotes ('...') or double quotes (\"...\") |\n",
    "| `special characters` |\tCertain special characters can be used, such as \"\\n\" (for newline) and \"\\t\" (for a tab) \t|  \t \n",
    "| `printing special characters` |\tTo print the special characters, they must be preceded by a backslash (\\\\)\t |\n",
    "| `continue on next line` |\tA backslash (\\\\) at the end of a line is used to continue a string on the next line\t  \t |\n",
    "| `multi-line strings` |\tA multi-line print statement should be enclosed by three double or three single quotes (\"\"\"...\"\"\" of '''...''')\t | "
   ]
  },
  {
   "cell_type": "markdown",
   "metadata": {},
   "source": [
    "#### Please run the code below and observe what happens."
   ]
  },
  {
   "cell_type": "code",
   "execution_count": 2,
   "metadata": {},
   "outputs": [
    {
     "name": "stdout",
     "output_type": "stream",
     "text": [
      "hello\n",
      "\n",
      "To print a newline use \\n\n",
      "She said: 'hello'\n",
      "\tThis is indented\n",
      "This is a very, very, very, very, very, very long print statement\n",
      "\n",
      "This is a multi-line print statement\n",
      "First line\n",
      "Second line\n",
      "\n"
     ]
    }
   ],
   "source": [
    "print('hello\\n')\n",
    "print('To print a newline use \\\\n')\n",
    "print('She said: \\'hello\\'')\n",
    "print('\\tThis is indented')\n",
    "print('This is a very, very, very, very, very, very \\\n",
    "long print statement')\n",
    "print('''\n",
    "This is a multi-line print statement\n",
    "First line\n",
    "Second line\n",
    "''')"
   ]
  },
  {
   "cell_type": "markdown",
   "metadata": {},
   "source": [
    "**Given the string 'hello' give an index command that returns 'e'. Enter your code in the cell below:**"
   ]
  },
  {
   "cell_type": "code",
   "execution_count": null,
   "metadata": {},
   "outputs": [],
   "source": [
    "s = 'hello'\n",
    "# Print out 'e' using indexing\n",
    "\n"
   ]
  },
  {
   "cell_type": "markdown",
   "metadata": {},
   "source": [
    "**Reverse the string 'hello' using slicing:**"
   ]
  },
  {
   "cell_type": "code",
   "execution_count": null,
   "metadata": {},
   "outputs": [],
   "source": [
    "s ='hello'\n",
    "# Reverse the string using slicing\n",
    "\n"
   ]
  },
  {
   "cell_type": "markdown",
   "metadata": {},
   "source": [
    "**Given the string hello, give two methods of producing the letter 'o' using indexing.**"
   ]
  },
  {
   "cell_type": "code",
   "execution_count": null,
   "metadata": {},
   "outputs": [],
   "source": [
    "s ='hello'\n",
    "# Print out the 'o'\n",
    "\n",
    "# Method 1:\n",
    "\n"
   ]
  },
  {
   "cell_type": "code",
   "execution_count": null,
   "metadata": {},
   "outputs": [],
   "source": [
    "# Method 2:\n",
    "\n"
   ]
  },
  {
   "cell_type": "code",
   "execution_count": null,
   "metadata": {},
   "outputs": [],
   "source": [
    "# What is the output of the following code? why?\n",
    "var= \"James Bond\"\n",
    "# print(var[2::-1])"
   ]
  },
  {
   "cell_type": "code",
   "execution_count": null,
   "metadata": {},
   "outputs": [],
   "source": [
    "# What is the output of the following code? why?\n",
    "var1 = 1\n",
    "var2 = 2\n",
    "var3 = \"3\"\n",
    "\n",
    "# print(var1 + var2 + var3)"
   ]
  },
  {
   "cell_type": "code",
   "execution_count": null,
   "metadata": {},
   "outputs": [],
   "source": [
    "# What is the output of the following code? why?\n",
    "\n",
    "str = \"pynative\"\n",
    "# print (str[1:3])"
   ]
  },
  {
   "cell_type": "markdown",
   "metadata": {},
   "source": [
    "**Replace all \"a\"s by \"o\"s in \"banana\" using a string method.**"
   ]
  },
  {
   "cell_type": "code",
   "execution_count": null,
   "metadata": {},
   "outputs": [],
   "source": [
    "my_string = \"banana\"\n",
    "# your code here\n"
   ]
  },
  {
   "cell_type": "markdown",
   "metadata": {},
   "source": [
    "**Can you exchange the first and last characters in `my_string` ('aananb')? Create a new variable `new_string` to store your result.**"
   ]
  },
  {
   "cell_type": "code",
   "execution_count": null,
   "metadata": {},
   "outputs": [],
   "source": [
    "my_string = \"banana\"\n",
    "new_string = # your code here\n"
   ]
  },
  {
   "cell_type": "markdown",
   "metadata": {},
   "source": [
    "**Now write a Python script that prints the following figure using *only one line* of code.**\n",
    "\n",
    "        | | |\n",
    "         @ @\n",
    "          *\n",
    "        |\"\"\"|"
   ]
  },
  {
   "cell_type": "code",
   "execution_count": null,
   "metadata": {},
   "outputs": [],
   "source": [
    "# your code here\n"
   ]
  },
  {
   "cell_type": "markdown",
   "metadata": {},
   "source": [
    "**Can you access/add/remove elements in a set that is an unordered data structure by its index?**"
   ]
  },
  {
   "cell_type": "code",
   "execution_count": null,
   "metadata": {},
   "outputs": [],
   "source": [
    "sampleList = [\"Jon\", \"Kelly\", \"Jessa\"]\n",
    "sampleList.append(2, \"Scott\")\n",
    "print(sampleList)"
   ]
  },
  {
   "cell_type": "markdown",
   "metadata": {},
   "source": [
    "## Lists\n",
    "\n",
    "##### An overview of list methods"
   ]
  },
  {
   "cell_type": "markdown",
   "metadata": {},
   "source": [
    "There are many more methods which we can perform on lists. Here is an overview of some of them.\n",
    "To get used to them, please call the **help** function on each of them (e.g., help(list.insert)). This will give you the information about the positional parameters, keyword parameters, and what is returned by the method."
   ]
  },
  {
   "cell_type": "code",
   "execution_count": 3,
   "metadata": {},
   "outputs": [],
   "source": [
    "#define some lists and variables\n",
    "a = [1,2,3]\n",
    "b = 4\n",
    "c = [5,6,7]\n",
    "x = 1\n",
    "i = 2\n",
    "\n",
    "# D o some operations on then by runing the following snipet of code and try to undrestand what is happening \n",
    "# a.append(b)     # Add item b to the end of a\n",
    "# a.extend(c)     # Add the elements of list c at the end of a\n",
    "# a.insert(i,b)   # Insert item b at position i\n",
    "# a.pop(i)        # Remove from a the i'th element and return it. If i is not specified, remove the last element\n",
    "# a.index(x)      # Return the index of the first element of a with value x. Error if it does not exist\n",
    "# a.count(x)      # Return how often value x is found in a\n",
    "# a.remove(x)     # Remove from a the first element with value x. Error if it does not exist\n",
    "# a.sort()        # Sort the elements of list a\n",
    "# a.reverse()     # Reverses list a (no return value!)\n",
    "\n",
    "# print(a)"
   ]
  },
  {
   "cell_type": "markdown",
   "metadata": {},
   "source": [
    "**Build this list [0,0,0] two separate ways.**"
   ]
  },
  {
   "cell_type": "code",
   "execution_count": null,
   "metadata": {},
   "outputs": [],
   "source": [
    "# Method 1:\n"
   ]
  },
  {
   "cell_type": "code",
   "execution_count": null,
   "metadata": {},
   "outputs": [],
   "source": [
    "# Method 2:\n"
   ]
  },
  {
   "cell_type": "markdown",
   "metadata": {},
   "source": [
    "**Reassign 'hello' in this nested list to say 'goodbye' instead:**"
   ]
  },
  {
   "cell_type": "code",
   "execution_count": null,
   "metadata": {},
   "outputs": [],
   "source": [
    "list3 = [1,2,[3,4,'hello']]\n"
   ]
  },
  {
   "cell_type": "markdown",
   "metadata": {},
   "source": [
    "**Sort and reverse the list below:**"
   ]
  },
  {
   "cell_type": "code",
   "execution_count": null,
   "metadata": {},
   "outputs": [],
   "source": [
    "list4 = [5,3,4,6,1]\n"
   ]
  },
  {
   "cell_type": "markdown",
   "metadata": {},
   "source": [
    "**Python program to append an element to a list.**\n",
    " \n",
    " First assume we have a given list num = [23,45,67,8,9].  \n",
    " Second ask for an input, say x, (use input()).  \n",
    " Then append x to the given list.   \n",
    " Enter the item to insert: study. What would happen?  \n",
    "\n"
   ]
  },
  {
   "cell_type": "code",
   "execution_count": null,
   "metadata": {},
   "outputs": [],
   "source": [
    "# your code here\n"
   ]
  },
  {
   "cell_type": "markdown",
   "metadata": {},
   "source": [
    "**Write a program to sum all the elements of a list.**"
   ]
  },
  {
   "cell_type": "code",
   "execution_count": null,
   "metadata": {},
   "outputs": [],
   "source": [
    "num = [2,3,2,4,7,8]\n"
   ]
  },
  {
   "cell_type": "markdown",
   "metadata": {},
   "source": [
    "## Dictionary\n",
    "\n",
    "**Using keys and indexing, grab the 'hello' from the following dictionaries:**"
   ]
  },
  {
   "cell_type": "code",
   "execution_count": null,
   "metadata": {},
   "outputs": [],
   "source": [
    "d = {'simple_key':'hello'}\n",
    "# Grab 'hello'\n"
   ]
  },
  {
   "cell_type": "code",
   "execution_count": null,
   "metadata": {},
   "outputs": [],
   "source": [
    "d = {'k1':{'k2':'hello'}}\n",
    "# Grab 'hello'\n"
   ]
  },
  {
   "cell_type": "code",
   "execution_count": null,
   "metadata": {},
   "outputs": [],
   "source": [
    "# Getting a little tricker\n",
    "d = {'k1':[{'nest_key':['this is deep',['hello']]}]}\n",
    "\n",
    "#Grab hello\n"
   ]
  },
  {
   "cell_type": "code",
   "execution_count": null,
   "metadata": {},
   "outputs": [],
   "source": [
    "# This will be hard and a bit annoying! :)\n",
    "\n",
    "\n",
    "d = {'k1':[1,2,{'k2':['this is tricky',{'tough':[1,2,['hello']]}]}]}"
   ]
  },
  {
   "cell_type": "markdown",
   "metadata": {},
   "source": [
    "**Write a program to print only keys of a dictionary.**\n",
    "\n",
    "dict = {0:”Value 1″, 1:”Value 2″, 2:”Value 3″}\n",
    "\n",
    "Expected output  \n",
    "Result: dict_keys([0, 1, 2])"
   ]
  },
  {
   "cell_type": "code",
   "execution_count": null,
   "metadata": {},
   "outputs": [],
   "source": [
    "# print all the keys of dictionary\n",
    "dict = {0:\"Value 1\", 1:\"Value 2\", 2:\"Value 3\"}"
   ]
  },
  {
   "cell_type": "markdown",
   "metadata": {},
   "source": [
    "**Write a program to print values of dictionary.**\n",
    " \n",
    "dict = {0:”Value 1″, 1:”Value 2″, 2:”Value 3″}\n",
    "\n",
    "Expected output  \n",
    "dict_values([‘Value 1’, ‘Value 2’, ‘Value 3’])"
   ]
  },
  {
   "cell_type": "code",
   "execution_count": null,
   "metadata": {},
   "outputs": [],
   "source": [
    "# print all the values of dictionary\n",
    "dict = {0:\"Value 1\", 1:\"Value 2\", 2:\"Value 3\"}"
   ]
  },
  {
   "cell_type": "markdown",
   "metadata": {},
   "source": [
    "<br>"
   ]
  },
  {
   "cell_type": "markdown",
   "metadata": {},
   "source": [
    "**Can you sort a dictionary? Why or why not?**<br>"
   ]
  },
  {
   "cell_type": "markdown",
   "metadata": {},
   "source": [
    "<br>"
   ]
  },
  {
   "cell_type": "markdown",
   "metadata": {},
   "source": [
    "**Write a Python program to sort dictionary by values (Ascending/ Descending).**\n",
    "\n",
    "Given  d = {‘key 1’: 2, ‘key 2’: 3, ‘key 3’: 4}\n",
    "\n",
    "Expected output\n",
    "\n",
    "Ascending: [(‘key 1’, 2), (‘key 2’, 3), (‘key 3’, 4)] \n",
    "\n",
    "Descending: [(‘key 3’, 4), (‘key 2’, 3), (‘key 1’, 2)]"
   ]
  },
  {
   "cell_type": "code",
   "execution_count": null,
   "metadata": {},
   "outputs": [],
   "source": [
    "# your code here"
   ]
  },
  {
   "cell_type": "markdown",
   "metadata": {},
   "source": [
    "<br>"
   ]
  },
  {
   "cell_type": "markdown",
   "metadata": {},
   "source": [
    "**Write a program to concatenate two dictionaries to create one.**  \n",
    "Hint \n",
    "Given  \n",
    "dict1 = {‘key 1’: 2, ‘key 2’: 3}  \n",
    "dict2 = {‘key 3’: 4, ‘key 4’: 5}  \n",
    "\n",
    "Expected output  \n",
    "{‘key 1’: 2, ‘key 2’: 3, ‘key 3’: 4, ‘key 4’: 5}"
   ]
  },
  {
   "cell_type": "code",
   "execution_count": null,
   "metadata": {},
   "outputs": [],
   "source": [
    "# your code here"
   ]
  },
  {
   "cell_type": "markdown",
   "metadata": {},
   "source": [
    "## Tuples"
   ]
  },
  {
   "cell_type": "markdown",
   "metadata": {},
   "source": [
    "**What is the major difference between tuples and lists? (Just think about it)**"
   ]
  },
  {
   "cell_type": "markdown",
   "metadata": {},
   "source": [
    "**How do you create a tuple with mixed elements (number, string, etc)? (Give an example here). Can we perform arithmetic operations on tuple?**"
   ]
  },
  {
   "cell_type": "code",
   "execution_count": null,
   "metadata": {},
   "outputs": [],
   "source": [
    "# example\n",
    "X = (1, 2, 3)\n",
    "Y = (4, 5, 6)\n",
    "# X + Y\n",
    "# X*3\n",
    "# X-Y"
   ]
  },
  {
   "cell_type": "markdown",
   "metadata": {},
   "source": [
    "## Sets "
   ]
  },
  {
   "cell_type": "markdown",
   "metadata": {},
   "source": [
    "**What is unique about a set?<br><br> (Just think about it)**"
   ]
  },
  {
   "cell_type": "markdown",
   "metadata": {},
   "source": [
    "**Use a set to find the unique values of the list below:**"
   ]
  },
  {
   "cell_type": "code",
   "execution_count": null,
   "metadata": {},
   "outputs": [],
   "source": [
    "list5 = [10,2,200,33,4,4,11,4,40,22,3,3,2,4]"
   ]
  },
  {
   "cell_type": "markdown",
   "metadata": {},
   "source": [
    "**Please run the following code to grasp how the set's methods work.**"
   ]
  },
  {
   "cell_type": "code",
   "execution_count": 6,
   "metadata": {},
   "outputs": [
    {
     "name": "stdout",
     "output_type": "stream",
     "text": [
      "{1, 2, 3, 100}\n",
      "{1, 2, 3, 100}\n",
      "{1, 2, 3, 100, 4, 5, 6, 600}\n",
      "{2, 3, 100, 4, 5, 6, 600}\n",
      "{2, 3, 4, 5, 6, 600}\n"
     ]
    }
   ],
   "source": [
    "set_a = {1, 2, 3,100}\n",
    "set_b = {4, 5, 6, 600}\n",
    "an_element = 4000\n",
    "\n",
    "\n",
    "print(set_a)\n",
    "\n",
    "#do some operations \n",
    "#set_a.add(an_element)  # Add an_element to set_a\n",
    "print(set_a)\n",
    "set_a.update(set_b)     # Add the elements of set_b to set_a\n",
    "print(set_a)\n",
    "set_a.pop()         # Remove and return an arbitrary set element. How does this compare to the list method pop?\n",
    "print(set_a)\n",
    "set_a.remove(100)     # Remove an_element from set_a\n",
    "print(set_a)"
   ]
  },
  {
   "cell_type": "code",
   "execution_count": 8,
   "metadata": {},
   "outputs": [
    {
     "name": "stdout",
     "output_type": "stream",
     "text": [
      "{'Jodi', 'Garry', 'Eric', 1}\n"
     ]
    }
   ],
   "source": [
    "## What is the output of the following code? and why?\n",
    "sampleSet = {\"Jodi\", \"Eric\", \"Garry\"}\n",
    "sampleSet.add(1, \"Vicki\")\n",
    "print(sampleSet)"
   ]
  },
  {
   "cell_type": "markdown",
   "metadata": {},
   "source": [
    "## Booleans"
   ]
  },
  {
   "cell_type": "markdown",
   "metadata": {},
   "source": [
    "##### For the following quiz questions, we will get a preview of comparison operators. In the table below, a=5 and b=6.\n",
    "\n",
    "<table class=\"table table-bordered\">\n",
    "<tr>\n",
    "<th style=\"width:10%\">Operator</th><th style=\"width:45%\">Description</th><th>Example</th>\n",
    "</tr>\n",
    "<tr>\n",
    "<td>==</td>\n",
    "<td>If the values of two operands are equal, then the condition becomes true.</td>\n",
    "<td> (a == b) is not true.</td>\n",
    "</tr>\n",
    "<tr>\n",
    "<td>!=</td>\n",
    "<td>If values of two operands are not equal, then condition becomes true.</td>\n",
    "<td> (a != b) is true.</td>\n",
    "</tr>\n",
    "<tr>\n",
    "<td>&gt;</td>\n",
    "<td>If the value of left operand is greater than the value of right operand, then condition becomes true.</td>\n",
    "<td> (a &gt; b) is not true.</td>\n",
    "</tr>\n",
    "<tr>\n",
    "<td>&lt;</td>\n",
    "<td>If the value of left operand is less than the value of right operand, then condition becomes true.</td>\n",
    "<td> (a &lt; b) is true.</td>\n",
    "</tr>\n",
    "<tr>\n",
    "<td>&gt;=</td>\n",
    "<td>If the value of left operand is greater than or equal to the value of right operand, then condition becomes true.</td>\n",
    "<td> (a &gt;= b) is not true. </td>\n",
    "</tr>\n",
    "<tr>\n",
    "<td>&lt;=</td>\n",
    "<td>If the value of left operand is less than or equal to the value of right operand, then condition becomes true.</td>\n",
    "<td> (a &lt;= b) is true. </td>\n",
    "</tr>\n",
    "</table>"
   ]
  },
  {
   "cell_type": "markdown",
   "metadata": {},
   "source": [
    "**What will be the resulting Boolean of the following pieces of code (answer first then check by typing it in!)**"
   ]
  },
  {
   "cell_type": "code",
   "execution_count": null,
   "metadata": {},
   "outputs": [],
   "source": [
    "# Answer before running cell\n",
    "2 > 3"
   ]
  },
  {
   "cell_type": "code",
   "execution_count": null,
   "metadata": {},
   "outputs": [],
   "source": [
    "# Answer before running cell\n",
    "3 <= 2"
   ]
  },
  {
   "cell_type": "code",
   "execution_count": null,
   "metadata": {},
   "outputs": [],
   "source": [
    "# Answer before running cell\n",
    "3 == 2.0"
   ]
  },
  {
   "cell_type": "code",
   "execution_count": null,
   "metadata": {},
   "outputs": [],
   "source": [
    "# Answer before running cell\n",
    "3.0 == 3"
   ]
  },
  {
   "cell_type": "code",
   "execution_count": null,
   "metadata": {},
   "outputs": [],
   "source": [
    "# Answer before running cell\n",
    "4**0.5 != 2"
   ]
  },
  {
   "cell_type": "markdown",
   "metadata": {},
   "source": [
    "**Final Question: What is the boolean output of the cell block below? Try to undrestand the logic.**"
   ]
  },
  {
   "cell_type": "code",
   "execution_count": null,
   "metadata": {},
   "outputs": [],
   "source": [
    "# two nested lists\n",
    "l_one = [1,2,[3,4]]\n",
    "l_two = [1,2,{'k1':4}]\n",
    "\n",
    "# True or False?\n",
    "l_one[2][0] >= l_two[2]['k1']"
   ]
  },
  {
   "cell_type": "markdown",
   "metadata": {},
   "source": [
    "## (Extra for the interested students) Format conversion methods for string\n",
    "Two methods <code>%s</code> and <code>%r</code> convert any python object to a string using two separate methods: `str()` and `repr()`.  `%r` and `repr()` deliver the *string representation* of the object, including quotation marks and any escape characters. Run the following cells:"
   ]
  },
  {
   "cell_type": "code",
   "execution_count": null,
   "metadata": {},
   "outputs": [],
   "source": [
    "print('He said his name was %s.' %'Fred')\n",
    "print('He said his name was %r.' %'Fred')"
   ]
  },
  {
   "cell_type": "markdown",
   "metadata": {},
   "source": [
    "As another example, `\\t` inserts a tab into a string."
   ]
  },
  {
   "cell_type": "code",
   "execution_count": null,
   "metadata": {},
   "outputs": [],
   "source": [
    "print('I once caught a fish %s.' %'this \\tbig')\n",
    "print('I once caught a fish %r.' %'this \\tbig')"
   ]
  },
  {
   "cell_type": "markdown",
   "metadata": {},
   "source": [
    "The `%s` operator converts whatever it sees into a string, including integers and floats. The `%d` operator converts numbers to integers first, without rounding. Note the difference below:"
   ]
  },
  {
   "cell_type": "code",
   "execution_count": null,
   "metadata": {},
   "outputs": [],
   "source": [
    "print('I wrote %s programs today.' %3.75)\n",
    "print('I wrote %d programs today.' %3.75) "
   ]
  },
  {
   "cell_type": "markdown",
   "metadata": {},
   "source": [
    "### Padding and Precision of Floating Point Numbers\n",
    "* Floating point numbers use the format <code>%5.2f</code>. \n",
    "* Here, <code>5</code> would be the minimum number of characters the string should contain; these may be padded with whitespace if the entire number does not have this many digits. \n",
    "* Next to this, <code>.2f</code> stands for how many numbers to show past the decimal point. Run the following cells and discuss the differences:"
   ]
  },
  {
   "cell_type": "code",
   "execution_count": null,
   "metadata": {},
   "outputs": [],
   "source": [
    "print('Floating point numbers: %5.2f' %(13.144))\n",
    "print('Floating point numbers: %1.0f' %(13.144))\n",
    "print('Floating point numbers: %1.5f' %(13.144))\n",
    "print('Floating point numbers: %10.2f' %(13.144))\n",
    "print('Floating point numbers: %25.2f' %(13.144))"
   ]
  },
  {
   "cell_type": "markdown",
   "metadata": {},
   "source": [
    "### Multiple Formatting\n",
    "Nothing prohibits using more than one conversion tool in the same print statement:"
   ]
  },
  {
   "cell_type": "code",
   "execution_count": null,
   "metadata": {},
   "outputs": [],
   "source": [
    "print('First: %s, Second: %5.2f, Third: %r' %('hi!',3.1415,'bye!'))"
   ]
  }
 ],
 "metadata": {
  "anaconda-cloud": {},
  "kernelspec": {
   "display_name": "Python 3 (ipykernel)",
   "language": "python",
   "name": "python3"
  },
  "language_info": {
   "codemirror_mode": {
    "name": "ipython",
    "version": 3
   },
   "file_extension": ".py",
   "mimetype": "text/x-python",
   "name": "python",
   "nbconvert_exporter": "python",
   "pygments_lexer": "ipython3",
   "version": "3.9.7"
  }
 },
 "nbformat": 4,
 "nbformat_minor": 4
}
