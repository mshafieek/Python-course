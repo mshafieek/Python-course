{
 "cells": [
  {
   "cell_type": "markdown",
   "id": "0e9aff61-c981-4646-9a1f-322463f222ba",
   "metadata": {},
   "source": [
    "## ========================================================================\n",
    "## Numpy Exercise Solution \n",
    "### Mahdi Shafiee Kamalabad\n",
    "## ========================================================================"
   ]
  },
  {
   "cell_type": "markdown",
   "id": "d6220e6b-2c01-4834-affc-00280858fc5b",
   "metadata": {},
   "source": [
    "#### Write a NumPy program to get help on the add function.\n",
    "\n",
    "Hint:\n",
    "`np.info()`   "
   ]
  },
  {
   "cell_type": "code",
   "execution_count": null,
   "id": "5edf6df9-1bb9-4b1d-8989-98be81398a7c",
   "metadata": {},
   "outputs": [],
   "source": [
    "import numpy as np\n",
    "print(np.info(np.add))"
   ]
  },
  {
   "cell_type": "markdown",
   "id": "e0b97d09-8c37-4f47-8c31-3ae9ac75e093",
   "metadata": {},
   "source": [
    "#### Write a NumPy program to test whether none of the elements of a given array is zero.\n",
    "\n",
    "Hint: `np.all()`"
   ]
  },
  {
   "cell_type": "code",
   "execution_count": null,
   "id": "4f5e6f92-f1dc-4d23-a36c-8c3bffc5c2af",
   "metadata": {},
   "outputs": [],
   "source": [
    "import numpy as np\n",
    "x = np.array([1, 2, 3, 4])\n",
    "print(\"Original array:\")\n",
    "print(x)\n",
    "print(\"Test if none of the elements of the said array is zero:\")\n",
    "print(np.all(x))\n"
   ]
  },
  {
   "cell_type": "code",
   "execution_count": null,
   "id": "89a2c710",
   "metadata": {},
   "outputs": [],
   "source": [
    "x = np.array([0, 1, 2, 3])\n",
    "print(\"Original array:\")\n",
    "print(x)\n",
    "print(\"Test if none of the elements of the said array is zero:\")\n",
    "print(np.all(x))"
   ]
  },
  {
   "cell_type": "markdown",
   "id": "f349ea3e-f2ec-4887-97de-dfe20be73a37",
   "metadata": {},
   "source": [
    "#### Write a NumPy program to test whether any of the elements of a given array is non-zero.\n",
    "\n",
    "Hint: `np.any()`"
   ]
  },
  {
   "cell_type": "code",
   "execution_count": null,
   "id": "c10dccab-d91c-4594-b04b-8b79d74d87f8",
   "metadata": {},
   "outputs": [],
   "source": [
    "import numpy as np\n",
    "x = np.array([1, 0, 0, 0])\n",
    "print(\"Original array:\")\n",
    "print(x)\n",
    "print(\"Test whether any of the elements of a given array is non-zero:\")\n",
    "print(np.any(x))"
   ]
  },
  {
   "cell_type": "code",
   "execution_count": null,
   "id": "5c90dfaf",
   "metadata": {},
   "outputs": [],
   "source": [
    "x = np.array([0, 0, 0, 0])\n",
    "print(\"Original array:\")\n",
    "print(x)\n",
    "print(\"Test whether any of the elements of a given array is non-zero:\")\n",
    "print(np.any(x))"
   ]
  },
  {
   "cell_type": "markdown",
   "id": "271062b5-dbb5-4810-ba0e-ce62f5879430",
   "metadata": {},
   "source": [
    "#### Write a NumPy program to create an element-wise comparison (greater, greater_equal, less and less_equal) of two given arrays.\n",
    "Input:\n",
    "\n",
    "x = np.array([3, 5])\n",
    "\n",
    "y = np.array([2, 5])\n",
    "\n",
    "E.g. you can use np.greater(..., ...)"
   ]
  },
  {
   "cell_type": "code",
   "execution_count": null,
   "id": "0884ba77-e752-4850-93ac-88c00f431cad",
   "metadata": {},
   "outputs": [],
   "source": [
    "import numpy as np\n",
    "x = np.array([3, 5])\n",
    "y = np.array([2, 5])\n",
    "print(\"Original numbers:\")\n",
    "print(x)\n",
    "print(y)\n",
    "print(\"Comparison - greater\")\n",
    "print(np.greater(x, y))\n",
    "print(\"Comparison - greater_equal\")\n",
    "print(np.greater_equal(x, y))\n",
    "print(\"Comparison - less\")\n",
    "print(np.less(x, y))\n",
    "print(\"Comparison - less_equal\")\n",
    "print(np.less_equal(x, y))"
   ]
  },
  {
   "cell_type": "markdown",
   "id": "44fa0a9f-0149-4573-bf3a-b1b7863a9ab6",
   "metadata": {},
   "source": [
    "#### Write a NumPy program to create an array with the values 1, 7, 13, 105 and determine the size of the memory occupied by the array.\n",
    "\n",
    "Hint:  \n",
    "*Size of the memory occupied by the said array*\n",
    "`.size`  `.itemsize`\n"
   ]
  },
  {
   "cell_type": "code",
   "execution_count": null,
   "id": "18d90fec-454b-4c4f-bde9-7af6a744276c",
   "metadata": {},
   "outputs": [],
   "source": [
    "import numpy as np\n",
    "X = np.array([1, 7, 13, 105])\n",
    "print(\"Original array:\")\n",
    "print(X)\n",
    "print(\"Size of the memory occupied by the said array:\")\n",
    "print(\"%d bytes\" % (X.size * X.itemsize))"
   ]
  },
  {
   "cell_type": "markdown",
   "id": "3c802c3d-ba75-4f67-a120-0cf68def3d1e",
   "metadata": {},
   "source": [
    "#### Write a NumPy program to create an array of the integers from 30 to 70.\n"
   ]
  },
  {
   "cell_type": "code",
   "execution_count": null,
   "id": "056b1aa1-2ba3-4bd8-b6d8-c26f0a1ee44b",
   "metadata": {},
   "outputs": [],
   "source": [
    "import numpy as np\n",
    "array=np.arange(30,71)\n",
    "print(\"Array of the integers from 30 to70\")\n",
    "print(array)"
   ]
  },
  {
   "cell_type": "markdown",
   "id": "098580cb-9d79-447a-8749-a327ceda2761",
   "metadata": {},
   "source": [
    "#### Write a NumPy program to create an array of all the even integers from 30 to 70.\n"
   ]
  },
  {
   "cell_type": "code",
   "execution_count": null,
   "id": "ac21c6b6-27dd-4510-9382-e5e265bdeeeb",
   "metadata": {},
   "outputs": [],
   "source": [
    "import numpy as np\n",
    "array=np.arange(30,71,2)\n",
    "print(\"Array of all the even integers from 30 to 70\")\n",
    "print(array) "
   ]
  },
  {
   "cell_type": "markdown",
   "id": "9720dd28-82b0-4f2c-9195-0aadc0bd087c",
   "metadata": {},
   "source": [
    "#### Write a NumPy program to generate a random number between 0 and 1.\n"
   ]
  },
  {
   "cell_type": "code",
   "execution_count": null,
   "id": "0ef1b91b-0dbc-43ce-b1e0-83a6fb963bed",
   "metadata": {},
   "outputs": [],
   "source": [
    "import numpy as np\n",
    "rand_num = np.random.normal(0,1,1)\n",
    "print(\"Random number between 0 and 1:\")\n",
    "print(rand_num)"
   ]
  },
  {
   "cell_type": "markdown",
   "id": "5893f42d-b426-4a0c-a5ae-0dbbe56b57ac",
   "metadata": {},
   "source": [
    "#### Write a NumPy program to create a 3X4 array and iterate over it.\n",
    "\n",
    "Hint: Check whether you can use `np.nditer`"
   ]
  },
  {
   "cell_type": "code",
   "execution_count": null,
   "id": "7b3d188d-121d-46ec-a6fa-8b2051dcb694",
   "metadata": {},
   "outputs": [],
   "source": [
    "import numpy as np\n",
    "a = np.arange(10,22).reshape((3, 4))\n",
    "print(\"Original array:\")\n",
    "print(a)\n",
    "print(\"Each element of the array is:\")\n",
    "for x in np.nditer(a):\n",
    "  print(x,end=\" \")"
   ]
  },
  {
   "cell_type": "code",
   "execution_count": null,
   "id": "1d5b5ae4",
   "metadata": {},
   "outputs": [],
   "source": [
    "list(np.nditer(a))"
   ]
  },
  {
   "cell_type": "markdown",
   "id": "dc8cca24-7d4a-4658-b827-b441e73ccdae",
   "metadata": {},
   "source": [
    "#### Write a NumPy program to create a vector of length 10 with values evenly distributed between 5 and 50.\n",
    "\n",
    "Hint: `.linspace()`"
   ]
  },
  {
   "cell_type": "code",
   "execution_count": null,
   "id": "bcbd6165-35fb-49fc-ae05-24e6223e8229",
   "metadata": {},
   "outputs": [],
   "source": [
    "import numpy as np\n",
    "v = np.linspace(5, 50, 10)\n",
    "print(\"Length 10 with values evenly distributed between 5 and 50:\")\n",
    "print(v)"
   ]
  },
  {
   "cell_type": "markdown",
   "id": "8091d9bd-ae20-4330-abff-cd7d08c8355e",
   "metadata": {},
   "source": [
    "#### Write a NumPy program to test element-wise for NaN of a given array.\n",
    "\n",
    "Hint: `.isnan()`"
   ]
  },
  {
   "cell_type": "code",
   "execution_count": null,
   "id": "1bce896f-ea98-4c0c-b2b7-b8bc8fff7ca2",
   "metadata": {},
   "outputs": [],
   "source": [
    "import numpy as np\n",
    "a = np.array([1, 0, np.nan, np.inf])\n",
    "print(\"Original array\")\n",
    "print(a)\n",
    "print(\"Test element-wise for NaN:\")\n",
    "print(np.isnan(a))"
   ]
  },
  {
   "cell_type": "markdown",
   "id": "32e75eab-5606-4ba3-b91b-28137393384a",
   "metadata": {},
   "source": [
    "#### Given are 2 similar dimensional numpy arrays, how to get a numpy array output in which every element is an element-wise sum of the 2 numpy arrays?"
   ]
  },
  {
   "cell_type": "code",
   "execution_count": null,
   "id": "bb4869c9-087b-4c39-b306-53311c001829",
   "metadata": {},
   "outputs": [],
   "source": [
    "a = np.array([[1,2,3],\n",
    "              [4,5,6]])\n",
    "\n",
    "b = np.array([[10,11,12],\n",
    "              [13,14,15]])\n",
    "\n",
    "c = a + b\n",
    "\n",
    "print(c)"
   ]
  },
  {
   "cell_type": "markdown",
   "id": "6e70814f-8852-490e-8321-e583a81f2310",
   "metadata": {},
   "source": [
    "#### Given a numpy array (matrix), how to get a numpy array output which is equal to the original matrix multiplied by a scalar?"
   ]
  },
  {
   "cell_type": "code",
   "execution_count": null,
   "id": "be0b7764-2113-4164-8598-e06489b00a06",
   "metadata": {},
   "outputs": [],
   "source": [
    "a = np.array([[1,2,3],\n",
    "              [4,5,6]])\n",
    "\n",
    "b = 2*a # multiplying the numpy array a(matrix) by 2\n",
    "\n",
    "print(b)"
   ]
  },
  {
   "cell_type": "markdown",
   "id": "4fee9ef4-ecfe-46ad-b650-56bbd2748ec9",
   "metadata": {},
   "source": [
    "#### Create an identity matrix of dimension 4-by-4.\n"
   ]
  },
  {
   "cell_type": "code",
   "execution_count": null,
   "id": "17da6a8e-6d04-4e08-bc7d-4af746587288",
   "metadata": {},
   "outputs": [],
   "source": [
    "i = np.eye(4)\n",
    "i"
   ]
  },
  {
   "cell_type": "markdown",
   "id": "bb833579-e600-476b-b024-c219b4ab6b35",
   "metadata": {},
   "source": [
    "#### Convert a 1-D array to a 3-D array.\n"
   ]
  },
  {
   "cell_type": "code",
   "execution_count": null,
   "id": "460cb208-c65a-4482-9b74-256487748ebc",
   "metadata": {},
   "outputs": [],
   "source": [
    "a = np.array([x for x in range(27)])\n",
    "\n",
    "o = a.reshape((3,3,3))\n",
    "\n",
    "print(o)"
   ]
  },
  {
   "cell_type": "markdown",
   "id": "2eaac364-9987-4b0d-b286-bab9f2e5f970",
   "metadata": {},
   "source": [
    "#### Convert all the elements of a numpy array from float to integer datatype.\n"
   ]
  },
  {
   "cell_type": "code",
   "execution_count": null,
   "id": "ca161dd5-d385-4841-b2e6-0ada37646382",
   "metadata": {},
   "outputs": [],
   "source": [
    "a = np.array([[2.5, 3.8, 1.5],\n",
    "              [4.7, 2.9, 1.56]])\n",
    "\n",
    "o = a.astype('int')\n",
    "\n",
    "print(o)"
   ]
  },
  {
   "cell_type": "markdown",
   "id": "45921ea6-a833-4939-88f1-07b718e3081f",
   "metadata": {},
   "source": [
    "#### Stack 2 numpy arrays horizontally i.e., 2 arrays having the same 1st dimension (number of rows in 2D arrays)."
   ]
  },
  {
   "cell_type": "code",
   "execution_count": null,
   "id": "74413e2f-1314-4a1b-aa4a-53b7d5b7a903",
   "metadata": {},
   "outputs": [],
   "source": [
    "a1 = np.array([[1,2,3],\n",
    "               [4,5,6]])\n",
    "\n",
    "a2 = np.array([[7,8,9],\n",
    "               [10,11,12]])\n",
    "\n",
    "o = np.hstack((a1, a2))\n",
    "\n",
    "print(o)"
   ]
  },
  {
   "cell_type": "markdown",
   "id": "3e49e96f-0dc1-4a39-9526-234381fa6022",
   "metadata": {},
   "source": [
    "#### Stack 2 numpy arrays vertically i.e., 2 arrays having the same last dimension (number of columns in 2D arrays)."
   ]
  },
  {
   "cell_type": "code",
   "execution_count": null,
   "id": "f1968673-894c-44d1-86fb-1cfbe56bcd6d",
   "metadata": {},
   "outputs": [],
   "source": [
    "a1 = np.array([[1,2],\n",
    "               [3,4],\n",
    "               [5,6]])\n",
    "\n",
    "a2 = np.array([[7,8],\n",
    "               [9,10],\n",
    "               [10,11]])\n",
    "\n",
    "o = np.vstack((a1, a2))\n",
    "\n",
    "print(o)"
   ]
  },
  {
   "cell_type": "markdown",
   "id": "e28f09fe-e41f-4ffd-8226-f324922b65c3",
   "metadata": {},
   "source": [
    "# Extra exercises\n",
    "\n",
    "#### From 2 numpy arrays, extract the indexes in which the elements in the 2 arrays match.\n",
    "Hint:np.where()"
   ]
  },
  {
   "cell_type": "code",
   "execution_count": null,
   "id": "03e44da0-d96e-4656-b61f-7a69c583907f",
   "metadata": {},
   "outputs": [],
   "source": [
    "a = np.array([1,2,3,4,5])\n",
    "\n",
    "b = np.array([1,3,2,4,5])\n",
    "\n",
    "print(np.where(a == b))"
   ]
  },
  {
   "cell_type": "markdown",
   "id": "c5f362fa-0e31-4046-96a8-4ce616f48660",
   "metadata": {},
   "source": [
    "#### Given 2 numpy arrays as matrices, output the result of multiplying the 2 matrices (as a numpy array)."
   ]
  },
  {
   "cell_type": "code",
   "execution_count": null,
   "id": "b065327b-8855-4e69-8118-5cef110ca472",
   "metadata": {},
   "outputs": [],
   "source": [
    "a = np.array([[1,2,3],\n",
    "              [4,5,6],\n",
    "              [7,8,9]])\n",
    "\n",
    "b = np.array([[2,3,4],\n",
    "              [5,6,7],\n",
    "              [8,9,10]])\n",
    "\n",
    "o = a@b\n",
    "\n",
    "print(o)"
   ]
  },
  {
   "cell_type": "code",
   "execution_count": null,
   "id": "48c3faff-16bd-4224-84e6-0c56ec08a7b4",
   "metadata": {},
   "outputs": [],
   "source": [
    "## Alternative\n",
    "\n",
    "a = np.array([[1,2,3],\n",
    "              [4,5,6],\n",
    "              [7,8,9]])\n",
    "\n",
    "b = np.array([[2,3,4],\n",
    "              [5,6,7],\n",
    "              [8,9,10]])\n",
    "\n",
    "o = np.matmul(a, b)\n",
    "\n",
    "print(o)"
   ]
  },
  {
   "cell_type": "markdown",
   "id": "43216ec5-a25d-488b-96e6-d08702ab0764",
   "metadata": {},
   "source": [
    "#### Replace all odd numbers in `arr` with *-1* Input:\n"
   ]
  },
  {
   "cell_type": "code",
   "execution_count": null,
   "id": "3bc37e90-2223-498c-8e2f-c8ac1a962ea5",
   "metadata": {},
   "outputs": [],
   "source": [
    "arr = np.array([0, 1, 2, 3, 4, 5, 6, 7, 8, 9])\n",
    "\n",
    "arr[arr % 2 == 1] = -1\n",
    "arr"
   ]
  },
  {
   "cell_type": "markdown",
   "id": "7257a3de-c261-49e4-abec-61cab1ade47d",
   "metadata": {},
   "source": [
    "#### Convert a 1D array to a 2D array with 2 rows Input:\n"
   ]
  },
  {
   "cell_type": "code",
   "execution_count": null,
   "id": "05f41b2e-7433-4caf-abc7-028c14cd34f6",
   "metadata": {},
   "outputs": [],
   "source": [
    "arr = np.arange(10)\n",
    "arr.reshape(2, -1)  # Setting to -1 automatically decides the number of cols\n"
   ]
  },
  {
   "cell_type": "markdown",
   "id": "c4137c33-8e99-436c-a4a2-d2e39e5d327e",
   "metadata": {},
   "source": [
    "#### Reverse the rows of a 2D array `arr`."
   ]
  },
  {
   "cell_type": "code",
   "execution_count": null,
   "id": "338352cb-65b9-4438-8df9-6a7f4ed9e640",
   "metadata": {},
   "outputs": [],
   "source": [
    "arr = np.arange(9).reshape(3,3)\n",
    "\n",
    "# Solution\n",
    "arr[::-1]"
   ]
  },
  {
   "cell_type": "code",
   "execution_count": null,
   "id": "6609da93-9632-4b82-98c4-7892fe829d79",
   "metadata": {},
   "outputs": [],
   "source": [
    "# Bonus: Reverse the columns of arr"
   ]
  },
  {
   "cell_type": "code",
   "execution_count": null,
   "id": "4695a7bc-ea3c-4923-b3ec-8198c7f67174",
   "metadata": {},
   "outputs": [],
   "source": [
    "arr = np.arange(9).reshape(3,3)\n",
    "\n",
    "# Solution\n",
    "arr[:, ::-1]"
   ]
  },
  {
   "cell_type": "markdown",
   "id": "73cc83ce-71dc-4019-b13f-99bace06cc16",
   "metadata": {},
   "source": [
    "#### *A Bit challenging*: Write a NumPy program to create a 10x10 matrix, in which the elements on the borders will be equal to 1, and inside 0."
   ]
  },
  {
   "cell_type": "code",
   "execution_count": null,
   "id": "9d061a97-0c85-4212-82b3-53c22814d8e9",
   "metadata": {},
   "outputs": [],
   "source": [
    "import numpy as np\n",
    "x = np.ones((10, 10))\n",
    "x[1:-1, 1:-1] = 0\n",
    "print(x)"
   ]
  },
  {
   "cell_type": "markdown",
   "id": "2bcedf4c-ed31-4e5b-9783-32646a6320c4",
   "metadata": {},
   "source": [
    "#### Write a NumPy program to create a 5x5 zero matrix with elements on the main diagonal equal to 1, 2, 3, 4, 5.\n",
    "Hint: `np.diag`\n"
   ]
  },
  {
   "cell_type": "code",
   "execution_count": null,
   "id": "6cae9dd7-b5c6-4fc8-8b6a-956534a43dcb",
   "metadata": {},
   "outputs": [],
   "source": [
    "import numpy as np\n",
    "x = np.diag([1, 2, 3, 4, 5])\n",
    "print(x)"
   ]
  },
  {
   "attachments": {
    "eae2d639-7f0c-405b-badf-8ff4913edb81.png": {
     "image/png": "[encoded data removed]"
    }
   },
   "cell_type": "markdown",
   "id": "be8d2082-a525-474f-a15d-1e86ad358cb8",
   "metadata": {},
   "source": [
    "#### Write a NumPy program to compute the inner product of two given vectors.\n",
    "![np_innerproduct.png](attachment:eae2d639-7f0c-405b-badf-8ff4913edb81.png)"
   ]
  },
  {
   "cell_type": "code",
   "execution_count": null,
   "id": "7701dc5a-1ef0-45aa-93a5-172f944fb99b",
   "metadata": {},
   "outputs": [],
   "source": [
    "import numpy as np\n",
    "x = np.array([4, 5])\n",
    "y = np.array([7, 10])\n",
    "print(\"Original vectors:\")\n",
    "print(x)\n",
    "print(y)\n",
    "print(\"Inner product of said vectors:\")\n",
    "print(np.dot(x, y))"
   ]
  },
  {
   "cell_type": "code",
   "execution_count": null,
   "id": "623b8bc4",
   "metadata": {},
   "outputs": [],
   "source": [
    "import numpy as np\n",
    "import matplotlib.pyplot as plt\n",
    "\n",
    "# Compute the x and y coordinates for points on a sine curve\n",
    "x = np.arange(0, 3 * np.pi, 0.2)\n",
    "y = np.sin(x)\n",
    "print(\"Plot the points using matplotlib:\")\n",
    "plt.plot(x, y)\n",
    "plt.show()"
   ]
  }
 ],
 "metadata": {
  "kernelspec": {
   "display_name": "Python 3",
   "language": "python",
   "name": "python3"
  },
  "language_info": {
   "codemirror_mode": {
    "name": "ipython",
    "version": 3
   },
   "file_extension": ".py",
   "mimetype": "text/x-python",
   "name": "python",
   "nbconvert_exporter": "python",
   "pygments_lexer": "ipython3",
   "version": "3.9.6 (default, Sep 26 2022, 11:37:49) \n[Clang 14.0.0 (clang-1400.0.29.202)]"
  },
  "vscode": {
   "interpreter": {
    "hash": "31f2aee4e71d21fbe5cf8b01ff0e069b9275f58929596ceb00d14d90e3e16cd6"
   }
  }
 },
 "nbformat": 4,
 "nbformat_minor": 5
}
