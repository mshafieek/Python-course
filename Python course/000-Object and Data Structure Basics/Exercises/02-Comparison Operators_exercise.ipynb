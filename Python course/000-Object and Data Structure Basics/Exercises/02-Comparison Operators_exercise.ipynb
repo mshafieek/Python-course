{
 "cells": [
  {
   "cell_type": "markdown",
   "id": "134a98ea-63a2-4391-b810-8176c0e38081",
   "metadata": {},
   "source": [
    "## ========================================================================\n",
    "\n",
    "## Test for Comparison Operators \n",
    "### Mahdi Shafiee Kamalabad\n",
    "## ========================================================================"
   ]
  },
  {
   "cell_type": "markdown",
   "id": "1b5d9c11",
   "metadata": {},
   "source": [
    "**Before running the following, please guess the output.**"
   ]
  },
  {
   "cell_type": "code",
   "execution_count": null,
   "id": "3d61b2ee",
   "metadata": {},
   "outputs": [],
   "source": [
    "3<6 or 3<2"
   ]
  },
  {
   "cell_type": "code",
   "execution_count": null,
   "id": "b5067010",
   "metadata": {},
   "outputs": [],
   "source": [
    "3<3 and 24>3"
   ]
  },
  {
   "cell_type": "code",
   "execution_count": null,
   "id": "fe38f2af",
   "metadata": {},
   "outputs": [],
   "source": [
    "3<3 or 24>3"
   ]
  },
  {
   "cell_type": "code",
   "execution_count": null,
   "id": "8c5197d9",
   "metadata": {},
   "outputs": [],
   "source": [
    "3==3.0"
   ]
  },
  {
   "cell_type": "code",
   "execution_count": null,
   "id": "514e311a",
   "metadata": {},
   "outputs": [],
   "source": [
    "'Mahdi'<'mahdi'"
   ]
  },
  {
   "cell_type": "markdown",
   "id": "0a892164",
   "metadata": {},
   "source": [
    "This one results in *True* because when comparing strings, their ASCII values are compared. The ASCII value for ‘M’ is 77, but that for ‘m’ is 109. Hence, ‘M’ is lesser than ‘M’.\n",
    "\n",
    "ASCII stands for \"American Standard Code for Information Interchange.\" ASCII is a character encoding that uses numeric codes to represent characters. See https://techterms.com/definition/ascii."
   ]
  },
  {
   "cell_type": "code",
   "execution_count": null,
   "id": "457a3958",
   "metadata": {},
   "outputs": [],
   "source": [
    "0.9999999<True"
   ]
  },
  {
   "cell_type": "markdown",
   "id": "082beab5",
   "metadata": {},
   "source": [
    "It works on containers like tuples as well. Let’s see some of these.  \n",
    "**Try to find the logic for the following.**"
   ]
  },
  {
   "cell_type": "code",
   "execution_count": null,
   "id": "b87e7690",
   "metadata": {},
   "outputs": [],
   "source": [
    "(1,2,3) < (1,2,3,4)"
   ]
  },
  {
   "cell_type": "code",
   "execution_count": null,
   "id": "1f36c7a0",
   "metadata": {},
   "outputs": [],
   "source": [
    "(1,3,2) < (1,2,3)"
   ]
  },
  {
   "cell_type": "code",
   "execution_count": null,
   "id": "d39a7f83",
   "metadata": {},
   "outputs": [],
   "source": [
    "()<(0,)"
   ]
  },
  {
   "cell_type": "code",
   "execution_count": null,
   "id": "4972ae1d",
   "metadata": {},
   "outputs": [],
   "source": [
    "(1,2)<('One','Two')"
   ]
  },
  {
   "cell_type": "markdown",
   "id": "483bde06",
   "metadata": {},
   "source": [
    "But you can’t compare tuples with different kinds of values."
   ]
  },
  {
   "cell_type": "code",
   "execution_count": null,
   "id": "83ae9ebc",
   "metadata": {},
   "outputs": [],
   "source": [
    "(1,'one')<(2,'two')"
   ]
  },
  {
   "cell_type": "markdown",
   "id": "b0859d0f",
   "metadata": {},
   "source": [
    "However, if you get comparable elements at the same indices, it is possible to compare two tuples."
   ]
  },
  {
   "cell_type": "code",
   "execution_count": null,
   "id": "bba96cc4",
   "metadata": {},
   "outputs": [],
   "source": [
    "{1,2,3}<{1,3,2}"
   ]
  },
  {
   "cell_type": "code",
   "execution_count": null,
   "id": "dd72198b",
   "metadata": {
    "tags": []
   },
   "outputs": [],
   "source": [
    "{1,2,3}=={1,3,2}"
   ]
  },
  {
   "cell_type": "markdown",
   "id": "7e16ea25-17a3-419a-a9d6-c8e2bd1b0382",
   "metadata": {},
   "source": [
    "**What is wrong in the following code? Correct the mistake.**"
   ]
  },
  {
   "cell_type": "code",
   "execution_count": null,
   "id": "6e1f4147-a094-4231-a61d-4e408ba34c1b",
   "metadata": {},
   "outputs": [],
   "source": [
    "my_string = \"hello\"\n",
    "if my_string = \"hello\":\n",
    "    print(\"world\")"
   ]
  },
  {
   "cell_type": "markdown",
   "id": "e25ff7b9-aace-49df-b809-7d0db2bd78dd",
   "metadata": {},
   "source": [
    "**Before running, guess the output.**"
   ]
  },
  {
   "cell_type": "code",
   "execution_count": null,
   "id": "101781e5-50b1-4025-9bca-981c9ec1fb81",
   "metadata": {},
   "outputs": [],
   "source": [
    "letters = ['a','b','c','d']\n",
    "numbers = [1,2,3,4,5]\n",
    "\n",
    "list_bools1 = ['a' in letters, \n",
    "                2 in numbers]\n",
    "print(list_bools1)\n",
    "boolean_expression1 = all(list_bools1)  ## google all(). How does it work? (googling is very important)\n",
    "print(boolean_expression1)"
   ]
  },
  {
   "cell_type": "markdown",
   "id": "8002ccdd-20b7-430a-aa76-76a7d9894706",
   "metadata": {},
   "source": [
    "**Before running, guess the output.**"
   ]
  },
  {
   "cell_type": "code",
   "execution_count": null,
   "id": "dfa91e4e-14b1-45ba-98e6-43c6be78d193",
   "metadata": {},
   "outputs": [],
   "source": [
    "list_bools2 = ['f' in letters, \n",
    "                200 in numbers]\n",
    "print(list_bools2)\n",
    "boolean_expression2 = any(list_bools2)  ## any()? google it now please!\n",
    "print(boolean_expression2)"
   ]
  }
 ],
 "metadata": {
  "kernelspec": {
   "display_name": "Python 3",
   "language": "python",
   "name": "python3"
  },
  "language_info": {
   "codemirror_mode": {
    "name": "ipython",
    "version": 3
   },
   "file_extension": ".py",
   "mimetype": "text/x-python",
   "name": "python",
   "nbconvert_exporter": "python",
   "pygments_lexer": "ipython3",
   "version": "3.9.6 (default, Sep 26 2022, 11:37:49) \n[Clang 14.0.0 (clang-1400.0.29.202)]"
  },
  "vscode": {
   "interpreter": {
    "hash": "31f2aee4e71d21fbe5cf8b01ff0e069b9275f58929596ceb00d14d90e3e16cd6"
   }
  }
 },
 "nbformat": 4,
 "nbformat_minor": 5
}
